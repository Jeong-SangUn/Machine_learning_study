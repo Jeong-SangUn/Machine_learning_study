{
 "cells": [
  {
   "cell_type": "code",
   "execution_count": 90,
   "metadata": {},
   "outputs": [],
   "source": [
    "input_num = 5"
   ]
  },
  {
   "cell_type": "code",
   "execution_count": 91,
   "metadata": {},
   "outputs": [
    {
     "name": "stdout",
     "output_type": "stream",
     "text": [
      "*    \n",
      "**   \n",
      "***  \n",
      "**** \n",
      "*****\n"
     ]
    }
   ],
   "source": [
    "star_save = ''\n",
    "temp = '{0:<'+str(input_num)+'}'\n",
    "\n",
    "for i in range(1,input_num+1):\n",
    "    for x in range(i):\n",
    "        star_save = star_save + '*'\n",
    "    print(temp.format(star_save))\n",
    "    star_save = ''"
   ]
  },
  {
   "cell_type": "code",
   "execution_count": 92,
   "metadata": {},
   "outputs": [
    {
     "name": "stdout",
     "output_type": "stream",
     "text": [
      "    *\n",
      "   **\n",
      "  ***\n",
      " ****\n",
      "*****\n"
     ]
    }
   ],
   "source": [
    "star_save = ''\n",
    "temp = '{0:>'+str(input_num)+'}'\n",
    "\n",
    "for i in range(1,input_num+1):\n",
    "    for x in range(i):\n",
    "        star_save = star_save + '*'\n",
    "    print(temp.format(star_save))\n",
    "    star_save = ''"
   ]
  },
  {
   "cell_type": "code",
   "execution_count": 93,
   "metadata": {},
   "outputs": [
    {
     "name": "stdout",
     "output_type": "stream",
     "text": [
      "********* \n",
      " *******  \n",
      "  *****   \n",
      "   ***    \n",
      "    *     \n"
     ]
    }
   ],
   "source": [
    "star_save = '*'\n",
    "temp = '{0:^'+str(input_num*2)+'}'\n",
    "\n",
    "for i in range(1,input_num):\n",
    "    star_save = star_save + '**'\n",
    "    \n",
    "for i in range(1,input_num+1):\n",
    "    print(temp.format(star_save))\n",
    "    star_save = star_save[0:(input_num*2-i*2)-1]"
   ]
  },
  {
   "cell_type": "code",
   "execution_count": 94,
   "metadata": {},
   "outputs": [
    {
     "name": "stdout",
     "output_type": "stream",
     "text": [
      "    *     \n",
      "   ***    \n",
      "  *****   \n",
      " *******  \n",
      "********* \n",
      " *******  \n",
      "  *****   \n",
      "   ***    \n",
      "    *     \n"
     ]
    }
   ],
   "source": [
    "star_save = '*'\n",
    "temp = '{0:^'+str(input_num*2)+'}'\n",
    "\n",
    "for i in range(1,input_num):\n",
    "    print(temp.format(star_save))\n",
    "    star_save = star_save + '**'\n",
    "    \n",
    "for i in range(1,input_num+1):\n",
    "    print(temp.format(star_save))\n",
    "    star_save = star_save[0:(input_num*2-i*2)-1]"
   ]
  }
 ],
 "metadata": {
  "kernelspec": {
   "display_name": "Python 3",
   "language": "python",
   "name": "python3"
  },
  "language_info": {
   "codemirror_mode": {
    "name": "ipython",
    "version": 3
   },
   "file_extension": ".py",
   "mimetype": "text/x-python",
   "name": "python",
   "nbconvert_exporter": "python",
   "pygments_lexer": "ipython3",
   "version": "3.7.3"
  }
 },
 "nbformat": 4,
 "nbformat_minor": 4
}
