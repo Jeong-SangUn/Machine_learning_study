{
 "cells": [
  {
   "cell_type": "code",
   "execution_count": 32,
   "metadata": {},
   "outputs": [],
   "source": [
    "from sklearn.tree import DecisionTreeClassifier\n",
    "from sklearn.datasets import load_iris\n",
    "from sklearn import tree\n",
    "from sklearn.model_selection import train_test_split"
   ]
  },
  {
   "cell_type": "code",
   "execution_count": 33,
   "metadata": {},
   "outputs": [],
   "source": [
    "iris_dataset = load_iris()"
   ]
  },
  {
   "cell_type": "code",
   "execution_count": 34,
   "metadata": {},
   "outputs": [],
   "source": [
    "X = iris_dataset.data\n",
    "y = iris_dataset.target\n",
    "\n",
    "X_train, X_test, y_train, y_test = train_test_split(X,y, train_size = 0.7, random_state=58)"
   ]
  },
  {
   "cell_type": "code",
   "execution_count": 35,
   "metadata": {},
   "outputs": [
    {
     "data": {
      "text/plain": [
       "(105, 4)"
      ]
     },
     "execution_count": 35,
     "metadata": {},
     "output_type": "execute_result"
    }
   ],
   "source": [
    "X_train.shape"
   ]
  },
  {
   "cell_type": "code",
   "execution_count": 36,
   "metadata": {},
   "outputs": [
    {
     "data": {
      "text/plain": [
       "(45, 4)"
      ]
     },
     "execution_count": 36,
     "metadata": {},
     "output_type": "execute_result"
    }
   ],
   "source": [
    "X_test.shape"
   ]
  },
  {
   "cell_type": "code",
   "execution_count": 37,
   "metadata": {},
   "outputs": [],
   "source": [
    "# 객체 생성\n",
    "clf = DecisionTreeClassifier(max_depth = None)"
   ]
  },
  {
   "cell_type": "code",
   "execution_count": 38,
   "metadata": {},
   "outputs": [
    {
     "data": {
      "text/plain": [
       "DecisionTreeClassifier(class_weight=None, criterion='gini', max_depth=None,\n",
       "                       max_features=None, max_leaf_nodes=None,\n",
       "                       min_impurity_decrease=0.0, min_impurity_split=None,\n",
       "                       min_samples_leaf=1, min_samples_split=2,\n",
       "                       min_weight_fraction_leaf=0.0, presort=False,\n",
       "                       random_state=None, splitter='best')"
      ]
     },
     "execution_count": 38,
     "metadata": {},
     "output_type": "execute_result"
    }
   ],
   "source": [
    "# 모델링\n",
    "clf.fit(X_train, y_train)"
   ]
  },
  {
   "cell_type": "code",
   "execution_count": 39,
   "metadata": {},
   "outputs": [
    {
     "data": {
      "text/plain": [
       "0.9333333333333333"
      ]
     },
     "execution_count": 39,
     "metadata": {},
     "output_type": "execute_result"
    }
   ],
   "source": [
    "clf.score(X_test,y_test)"
   ]
  },
  {
   "cell_type": "code",
   "execution_count": 40,
   "metadata": {},
   "outputs": [],
   "source": [
    "a=clf.predict(X_test)"
   ]
  },
  {
   "cell_type": "code",
   "execution_count": 41,
   "metadata": {},
   "outputs": [
    {
     "data": {
      "text/plain": [
       "0.9333333333333333"
      ]
     },
     "execution_count": 41,
     "metadata": {},
     "output_type": "execute_result"
    }
   ],
   "source": [
    "(a == y_test).mean()"
   ]
  },
  {
   "cell_type": "code",
   "execution_count": 42,
   "metadata": {},
   "outputs": [
    {
     "name": "stdout",
     "output_type": "stream",
     "text": [
      "트레인 세트 정확도: 1.00\n",
      "테스트 세트 정확도: 0.93\n"
     ]
    }
   ],
   "source": [
    "print('트레인 세트 정확도: {:.2f}'.format(clf.score(X_train,y_train)))\n",
    "print('테스트 세트 정확도: {:.2f}'.format(clf.score(X_test,y_test)))"
   ]
  },
  {
   "cell_type": "code",
   "execution_count": 43,
   "metadata": {},
   "outputs": [],
   "source": [
    "import os\n",
    "import sys"
   ]
  },
  {
   "cell_type": "code",
   "execution_count": 44,
   "metadata": {},
   "outputs": [
    {
     "name": "stdout",
     "output_type": "stream",
     "text": [
      "C:\\Users\\User\\Desktop\\Machine learning\\jupyter\n",
      "C:\\ProgramData\\Anaconda3\\python37.zip\n",
      "C:\\ProgramData\\Anaconda3\\DLLs\n",
      "C:\\ProgramData\\Anaconda3\\lib\n",
      "C:\\ProgramData\\Anaconda3\n",
      "\n",
      "C:\\Users\\User\\AppData\\Roaming\\Python\\Python37\\site-packages\n",
      "C:\\ProgramData\\Anaconda3\\lib\\site-packages\n",
      "C:\\ProgramData\\Anaconda3\\lib\\site-packages\\win32\n",
      "C:\\ProgramData\\Anaconda3\\lib\\site-packages\\win32\\lib\n",
      "C:\\ProgramData\\Anaconda3\\lib\\site-packages\\Pythonwin\n",
      "C:\\ProgramData\\Anaconda3\\lib\\site-packages\\IPython\\extensions\n",
      "C:\\Users\\User\\.ipython\n"
     ]
    }
   ],
   "source": [
    "print('\\n'.join(sys.path))"
   ]
  },
  {
   "cell_type": "code",
   "execution_count": 45,
   "metadata": {},
   "outputs": [],
   "source": [
    "os.environ[\"PATH\"] += os.pathsep + 'C:\\\\ProgramData\\\\Anaconda3\\\\Library\\\\bin\\\\graphviz'"
   ]
  },
  {
   "cell_type": "code",
   "execution_count": 46,
   "metadata": {},
   "outputs": [],
   "source": [
    "from sklearn.tree import export_graphviz\n",
    "import graphviz #설치 필요"
   ]
  },
  {
   "cell_type": "code",
   "execution_count": 47,
   "metadata": {},
   "outputs": [],
   "source": [
    "export_graphviz(clf, out_file = \"./tree_data/tree.dot\",\n",
    "               feature_names= iris_dataset.feature_names,\n",
    "               class_names=iris_dataset.target_names,\n",
    "               filled =True)"
   ]
  },
  {
   "cell_type": "code",
   "execution_count": 48,
   "metadata": {},
   "outputs": [],
   "source": [
    "with open(\"./tree_data/tree.dot\") as f:\n",
    "    dot_graph = f.read()"
   ]
  },
  {
   "cell_type": "code",
   "execution_count": 49,
   "metadata": {},
   "outputs": [
    {
     "data": {
      "image/svg+xml": [
       "<?xml version=\"1.0\" encoding=\"UTF-8\" standalone=\"no\"?>\r\n",
       "<!DOCTYPE svg PUBLIC \"-//W3C//DTD SVG 1.1//EN\"\r\n",
       " \"http://www.w3.org/Graphics/SVG/1.1/DTD/svg11.dtd\">\r\n",
       "<!-- Generated by graphviz version 2.38.0 (20140413.2041)\r\n",
       " -->\r\n",
       "<!-- Title: Tree Pages: 1 -->\r\n",
       "<svg width=\"570pt\" height=\"671pt\"\r\n",
       " viewBox=\"0.00 0.00 569.50 671.00\" xmlns=\"http://www.w3.org/2000/svg\" xmlns:xlink=\"http://www.w3.org/1999/xlink\">\r\n",
       "<g id=\"graph0\" class=\"graph\" transform=\"scale(1 1) rotate(0) translate(4 667)\">\r\n",
       "<title>Tree</title>\r\n",
       "<polygon fill=\"white\" stroke=\"none\" points=\"-4,4 -4,-667 565.5,-667 565.5,4 -4,4\"/>\r\n",
       "<!-- 0 -->\r\n",
       "<g id=\"node1\" class=\"node\"><title>0</title>\r\n",
       "<polygon fill=\"#fef8f4\" stroke=\"black\" points=\"369.5,-663 220.5,-663 220.5,-580 369.5,-580 369.5,-663\"/>\r\n",
       "<text text-anchor=\"middle\" x=\"295\" y=\"-647.8\" font-family=\"Times New Roman,serif\" font-size=\"14.00\">petal width (cm) &lt;= 0.8</text>\r\n",
       "<text text-anchor=\"middle\" x=\"295\" y=\"-632.8\" font-family=\"Times New Roman,serif\" font-size=\"14.00\">gini = 0.664</text>\r\n",
       "<text text-anchor=\"middle\" x=\"295\" y=\"-617.8\" font-family=\"Times New Roman,serif\" font-size=\"14.00\">samples = 105</text>\r\n",
       "<text text-anchor=\"middle\" x=\"295\" y=\"-602.8\" font-family=\"Times New Roman,serif\" font-size=\"14.00\">value = [39, 31, 35]</text>\r\n",
       "<text text-anchor=\"middle\" x=\"295\" y=\"-587.8\" font-family=\"Times New Roman,serif\" font-size=\"14.00\">class = setosa</text>\r\n",
       "</g>\r\n",
       "<!-- 1 -->\r\n",
       "<g id=\"node2\" class=\"node\"><title>1</title>\r\n",
       "<polygon fill=\"#e58139\" stroke=\"black\" points=\"275,-536.5 163,-536.5 163,-468.5 275,-468.5 275,-536.5\"/>\r\n",
       "<text text-anchor=\"middle\" x=\"219\" y=\"-521.3\" font-family=\"Times New Roman,serif\" font-size=\"14.00\">gini = 0.0</text>\r\n",
       "<text text-anchor=\"middle\" x=\"219\" y=\"-506.3\" font-family=\"Times New Roman,serif\" font-size=\"14.00\">samples = 39</text>\r\n",
       "<text text-anchor=\"middle\" x=\"219\" y=\"-491.3\" font-family=\"Times New Roman,serif\" font-size=\"14.00\">value = [39, 0, 0]</text>\r\n",
       "<text text-anchor=\"middle\" x=\"219\" y=\"-476.3\" font-family=\"Times New Roman,serif\" font-size=\"14.00\">class = setosa</text>\r\n",
       "</g>\r\n",
       "<!-- 0&#45;&gt;1 -->\r\n",
       "<g id=\"edge1\" class=\"edge\"><title>0&#45;&gt;1</title>\r\n",
       "<path fill=\"none\" stroke=\"black\" d=\"M268.632,-579.907C261.321,-568.652 253.374,-556.418 246.026,-545.106\"/>\r\n",
       "<polygon fill=\"black\" stroke=\"black\" points=\"248.927,-543.146 240.544,-536.667 243.057,-546.96 248.927,-543.146\"/>\r\n",
       "<text text-anchor=\"middle\" x=\"235.349\" y=\"-557.421\" font-family=\"Times New Roman,serif\" font-size=\"14.00\">True</text>\r\n",
       "</g>\r\n",
       "<!-- 2 -->\r\n",
       "<g id=\"node3\" class=\"node\"><title>2</title>\r\n",
       "<polygon fill=\"#f1e8fc\" stroke=\"black\" points=\"448.5,-544 293.5,-544 293.5,-461 448.5,-461 448.5,-544\"/>\r\n",
       "<text text-anchor=\"middle\" x=\"371\" y=\"-528.8\" font-family=\"Times New Roman,serif\" font-size=\"14.00\">petal width (cm) &lt;= 1.75</text>\r\n",
       "<text text-anchor=\"middle\" x=\"371\" y=\"-513.8\" font-family=\"Times New Roman,serif\" font-size=\"14.00\">gini = 0.498</text>\r\n",
       "<text text-anchor=\"middle\" x=\"371\" y=\"-498.8\" font-family=\"Times New Roman,serif\" font-size=\"14.00\">samples = 66</text>\r\n",
       "<text text-anchor=\"middle\" x=\"371\" y=\"-483.8\" font-family=\"Times New Roman,serif\" font-size=\"14.00\">value = [0, 31, 35]</text>\r\n",
       "<text text-anchor=\"middle\" x=\"371\" y=\"-468.8\" font-family=\"Times New Roman,serif\" font-size=\"14.00\">class = virginica</text>\r\n",
       "</g>\r\n",
       "<!-- 0&#45;&gt;2 -->\r\n",
       "<g id=\"edge2\" class=\"edge\"><title>0&#45;&gt;2</title>\r\n",
       "<path fill=\"none\" stroke=\"black\" d=\"M321.368,-579.907C327.086,-571.105 333.193,-561.703 339.098,-552.612\"/>\r\n",
       "<polygon fill=\"black\" stroke=\"black\" points=\"342.167,-554.313 344.679,-544.021 336.296,-550.5 342.167,-554.313\"/>\r\n",
       "<text text-anchor=\"middle\" x=\"349.874\" y=\"-564.775\" font-family=\"Times New Roman,serif\" font-size=\"14.00\">False</text>\r\n",
       "</g>\r\n",
       "<!-- 3 -->\r\n",
       "<g id=\"node4\" class=\"node\"><title>3</title>\r\n",
       "<polygon fill=\"#4ce88d\" stroke=\"black\" points=\"374,-425 216,-425 216,-342 374,-342 374,-425\"/>\r\n",
       "<text text-anchor=\"middle\" x=\"295\" y=\"-409.8\" font-family=\"Times New Roman,serif\" font-size=\"14.00\">petal length (cm) &lt;= 5.05</text>\r\n",
       "<text text-anchor=\"middle\" x=\"295\" y=\"-394.8\" font-family=\"Times New Roman,serif\" font-size=\"14.00\">gini = 0.161</text>\r\n",
       "<text text-anchor=\"middle\" x=\"295\" y=\"-379.8\" font-family=\"Times New Roman,serif\" font-size=\"14.00\">samples = 34</text>\r\n",
       "<text text-anchor=\"middle\" x=\"295\" y=\"-364.8\" font-family=\"Times New Roman,serif\" font-size=\"14.00\">value = [0, 31, 3]</text>\r\n",
       "<text text-anchor=\"middle\" x=\"295\" y=\"-349.8\" font-family=\"Times New Roman,serif\" font-size=\"14.00\">class = versicolor</text>\r\n",
       "</g>\r\n",
       "<!-- 2&#45;&gt;3 -->\r\n",
       "<g id=\"edge3\" class=\"edge\"><title>2&#45;&gt;3</title>\r\n",
       "<path fill=\"none\" stroke=\"black\" d=\"M344.632,-460.907C338.914,-452.105 332.807,-442.703 326.902,-433.612\"/>\r\n",
       "<polygon fill=\"black\" stroke=\"black\" points=\"329.704,-431.5 321.321,-425.021 323.833,-435.313 329.704,-431.5\"/>\r\n",
       "</g>\r\n",
       "<!-- 12 -->\r\n",
       "<g id=\"node13\" class=\"node\"><title>12</title>\r\n",
       "<polygon fill=\"#8139e5\" stroke=\"black\" points=\"504,-417.5 392,-417.5 392,-349.5 504,-349.5 504,-417.5\"/>\r\n",
       "<text text-anchor=\"middle\" x=\"448\" y=\"-402.3\" font-family=\"Times New Roman,serif\" font-size=\"14.00\">gini = 0.0</text>\r\n",
       "<text text-anchor=\"middle\" x=\"448\" y=\"-387.3\" font-family=\"Times New Roman,serif\" font-size=\"14.00\">samples = 32</text>\r\n",
       "<text text-anchor=\"middle\" x=\"448\" y=\"-372.3\" font-family=\"Times New Roman,serif\" font-size=\"14.00\">value = [0, 0, 32]</text>\r\n",
       "<text text-anchor=\"middle\" x=\"448\" y=\"-357.3\" font-family=\"Times New Roman,serif\" font-size=\"14.00\">class = virginica</text>\r\n",
       "</g>\r\n",
       "<!-- 2&#45;&gt;12 -->\r\n",
       "<g id=\"edge12\" class=\"edge\"><title>2&#45;&gt;12</title>\r\n",
       "<path fill=\"none\" stroke=\"black\" d=\"M397.715,-460.907C405.122,-449.652 413.173,-437.418 420.618,-426.106\"/>\r\n",
       "<polygon fill=\"black\" stroke=\"black\" points=\"423.598,-427.944 426.172,-417.667 417.751,-424.096 423.598,-427.944\"/>\r\n",
       "</g>\r\n",
       "<!-- 4 -->\r\n",
       "<g id=\"node5\" class=\"node\"><title>4</title>\r\n",
       "<polygon fill=\"#40e685\" stroke=\"black\" points=\"285.5,-306 130.5,-306 130.5,-223 285.5,-223 285.5,-306\"/>\r\n",
       "<text text-anchor=\"middle\" x=\"208\" y=\"-290.8\" font-family=\"Times New Roman,serif\" font-size=\"14.00\">petal width (cm) &lt;= 1.65</text>\r\n",
       "<text text-anchor=\"middle\" x=\"208\" y=\"-275.8\" font-family=\"Times New Roman,serif\" font-size=\"14.00\">gini = 0.062</text>\r\n",
       "<text text-anchor=\"middle\" x=\"208\" y=\"-260.8\" font-family=\"Times New Roman,serif\" font-size=\"14.00\">samples = 31</text>\r\n",
       "<text text-anchor=\"middle\" x=\"208\" y=\"-245.8\" font-family=\"Times New Roman,serif\" font-size=\"14.00\">value = [0, 30, 1]</text>\r\n",
       "<text text-anchor=\"middle\" x=\"208\" y=\"-230.8\" font-family=\"Times New Roman,serif\" font-size=\"14.00\">class = versicolor</text>\r\n",
       "</g>\r\n",
       "<!-- 3&#45;&gt;4 -->\r\n",
       "<g id=\"edge4\" class=\"edge\"><title>3&#45;&gt;4</title>\r\n",
       "<path fill=\"none\" stroke=\"black\" d=\"M264.816,-341.907C258.135,-332.923 250.991,-323.315 244.101,-314.05\"/>\r\n",
       "<polygon fill=\"black\" stroke=\"black\" points=\"246.907,-311.957 238.131,-306.021 241.289,-316.134 246.907,-311.957\"/>\r\n",
       "</g>\r\n",
       "<!-- 9 -->\r\n",
       "<g id=\"node10\" class=\"node\"><title>9</title>\r\n",
       "<polygon fill=\"#c09cf2\" stroke=\"black\" points=\"462,-306 304,-306 304,-223 462,-223 462,-306\"/>\r\n",
       "<text text-anchor=\"middle\" x=\"383\" y=\"-290.8\" font-family=\"Times New Roman,serif\" font-size=\"14.00\">sepal width (cm) &lt;= 2.75</text>\r\n",
       "<text text-anchor=\"middle\" x=\"383\" y=\"-275.8\" font-family=\"Times New Roman,serif\" font-size=\"14.00\">gini = 0.444</text>\r\n",
       "<text text-anchor=\"middle\" x=\"383\" y=\"-260.8\" font-family=\"Times New Roman,serif\" font-size=\"14.00\">samples = 3</text>\r\n",
       "<text text-anchor=\"middle\" x=\"383\" y=\"-245.8\" font-family=\"Times New Roman,serif\" font-size=\"14.00\">value = [0, 1, 2]</text>\r\n",
       "<text text-anchor=\"middle\" x=\"383\" y=\"-230.8\" font-family=\"Times New Roman,serif\" font-size=\"14.00\">class = virginica</text>\r\n",
       "</g>\r\n",
       "<!-- 3&#45;&gt;9 -->\r\n",
       "<g id=\"edge9\" class=\"edge\"><title>3&#45;&gt;9</title>\r\n",
       "<path fill=\"none\" stroke=\"black\" d=\"M325.531,-341.907C332.289,-332.923 339.515,-323.315 346.484,-314.05\"/>\r\n",
       "<polygon fill=\"black\" stroke=\"black\" points=\"349.309,-316.116 352.523,-306.021 343.715,-311.909 349.309,-316.116\"/>\r\n",
       "</g>\r\n",
       "<!-- 5 -->\r\n",
       "<g id=\"node6\" class=\"node\"><title>5</title>\r\n",
       "<polygon fill=\"#39e581\" stroke=\"black\" points=\"116,-179.5 0,-179.5 0,-111.5 116,-111.5 116,-179.5\"/>\r\n",
       "<text text-anchor=\"middle\" x=\"58\" y=\"-164.3\" font-family=\"Times New Roman,serif\" font-size=\"14.00\">gini = 0.0</text>\r\n",
       "<text text-anchor=\"middle\" x=\"58\" y=\"-149.3\" font-family=\"Times New Roman,serif\" font-size=\"14.00\">samples = 29</text>\r\n",
       "<text text-anchor=\"middle\" x=\"58\" y=\"-134.3\" font-family=\"Times New Roman,serif\" font-size=\"14.00\">value = [0, 29, 0]</text>\r\n",
       "<text text-anchor=\"middle\" x=\"58\" y=\"-119.3\" font-family=\"Times New Roman,serif\" font-size=\"14.00\">class = versicolor</text>\r\n",
       "</g>\r\n",
       "<!-- 4&#45;&gt;5 -->\r\n",
       "<g id=\"edge5\" class=\"edge\"><title>4&#45;&gt;5</title>\r\n",
       "<path fill=\"none\" stroke=\"black\" d=\"M155.958,-222.907C140.68,-210.99 123.994,-197.976 108.795,-186.12\"/>\r\n",
       "<polygon fill=\"black\" stroke=\"black\" points=\"110.559,-183.058 100.522,-179.667 106.254,-188.577 110.559,-183.058\"/>\r\n",
       "</g>\r\n",
       "<!-- 6 -->\r\n",
       "<g id=\"node7\" class=\"node\"><title>6</title>\r\n",
       "<polygon fill=\"#ffffff\" stroke=\"black\" points=\"292,-187 134,-187 134,-104 292,-104 292,-187\"/>\r\n",
       "<text text-anchor=\"middle\" x=\"213\" y=\"-171.8\" font-family=\"Times New Roman,serif\" font-size=\"14.00\">sepal width (cm) &lt;= 2.75</text>\r\n",
       "<text text-anchor=\"middle\" x=\"213\" y=\"-156.8\" font-family=\"Times New Roman,serif\" font-size=\"14.00\">gini = 0.5</text>\r\n",
       "<text text-anchor=\"middle\" x=\"213\" y=\"-141.8\" font-family=\"Times New Roman,serif\" font-size=\"14.00\">samples = 2</text>\r\n",
       "<text text-anchor=\"middle\" x=\"213\" y=\"-126.8\" font-family=\"Times New Roman,serif\" font-size=\"14.00\">value = [0, 1, 1]</text>\r\n",
       "<text text-anchor=\"middle\" x=\"213\" y=\"-111.8\" font-family=\"Times New Roman,serif\" font-size=\"14.00\">class = versicolor</text>\r\n",
       "</g>\r\n",
       "<!-- 4&#45;&gt;6 -->\r\n",
       "<g id=\"edge6\" class=\"edge\"><title>4&#45;&gt;6</title>\r\n",
       "<path fill=\"none\" stroke=\"black\" d=\"M209.735,-222.907C210.092,-214.558 210.471,-205.671 210.841,-197.02\"/>\r\n",
       "<polygon fill=\"black\" stroke=\"black\" points=\"214.338,-197.161 211.268,-187.021 207.344,-196.862 214.338,-197.161\"/>\r\n",
       "</g>\r\n",
       "<!-- 7 -->\r\n",
       "<g id=\"node8\" class=\"node\"><title>7</title>\r\n",
       "<polygon fill=\"#8139e5\" stroke=\"black\" points=\"201.5,-68 94.5,-68 94.5,-0 201.5,-0 201.5,-68\"/>\r\n",
       "<text text-anchor=\"middle\" x=\"148\" y=\"-52.8\" font-family=\"Times New Roman,serif\" font-size=\"14.00\">gini = 0.0</text>\r\n",
       "<text text-anchor=\"middle\" x=\"148\" y=\"-37.8\" font-family=\"Times New Roman,serif\" font-size=\"14.00\">samples = 1</text>\r\n",
       "<text text-anchor=\"middle\" x=\"148\" y=\"-22.8\" font-family=\"Times New Roman,serif\" font-size=\"14.00\">value = [0, 0, 1]</text>\r\n",
       "<text text-anchor=\"middle\" x=\"148\" y=\"-7.8\" font-family=\"Times New Roman,serif\" font-size=\"14.00\">class = virginica</text>\r\n",
       "</g>\r\n",
       "<!-- 6&#45;&gt;7 -->\r\n",
       "<g id=\"edge7\" class=\"edge\"><title>6&#45;&gt;7</title>\r\n",
       "<path fill=\"none\" stroke=\"black\" d=\"M188.796,-103.726C183.599,-94.9703 178.098,-85.7032 172.875,-76.9051\"/>\r\n",
       "<polygon fill=\"black\" stroke=\"black\" points=\"175.881,-75.1121 167.767,-68.2996 169.862,-78.6853 175.881,-75.1121\"/>\r\n",
       "</g>\r\n",
       "<!-- 8 -->\r\n",
       "<g id=\"node9\" class=\"node\"><title>8</title>\r\n",
       "<polygon fill=\"#39e581\" stroke=\"black\" points=\"336,-68 220,-68 220,-0 336,-0 336,-68\"/>\r\n",
       "<text text-anchor=\"middle\" x=\"278\" y=\"-52.8\" font-family=\"Times New Roman,serif\" font-size=\"14.00\">gini = 0.0</text>\r\n",
       "<text text-anchor=\"middle\" x=\"278\" y=\"-37.8\" font-family=\"Times New Roman,serif\" font-size=\"14.00\">samples = 1</text>\r\n",
       "<text text-anchor=\"middle\" x=\"278\" y=\"-22.8\" font-family=\"Times New Roman,serif\" font-size=\"14.00\">value = [0, 1, 0]</text>\r\n",
       "<text text-anchor=\"middle\" x=\"278\" y=\"-7.8\" font-family=\"Times New Roman,serif\" font-size=\"14.00\">class = versicolor</text>\r\n",
       "</g>\r\n",
       "<!-- 6&#45;&gt;8 -->\r\n",
       "<g id=\"edge8\" class=\"edge\"><title>6&#45;&gt;8</title>\r\n",
       "<path fill=\"none\" stroke=\"black\" d=\"M237.204,-103.726C242.401,-94.9703 247.902,-85.7032 253.125,-76.9051\"/>\r\n",
       "<polygon fill=\"black\" stroke=\"black\" points=\"256.138,-78.6853 258.233,-68.2996 250.119,-75.1121 256.138,-78.6853\"/>\r\n",
       "</g>\r\n",
       "<!-- 10 -->\r\n",
       "<g id=\"node11\" class=\"node\"><title>10</title>\r\n",
       "<polygon fill=\"#39e581\" stroke=\"black\" points=\"436,-179.5 320,-179.5 320,-111.5 436,-111.5 436,-179.5\"/>\r\n",
       "<text text-anchor=\"middle\" x=\"378\" y=\"-164.3\" font-family=\"Times New Roman,serif\" font-size=\"14.00\">gini = 0.0</text>\r\n",
       "<text text-anchor=\"middle\" x=\"378\" y=\"-149.3\" font-family=\"Times New Roman,serif\" font-size=\"14.00\">samples = 1</text>\r\n",
       "<text text-anchor=\"middle\" x=\"378\" y=\"-134.3\" font-family=\"Times New Roman,serif\" font-size=\"14.00\">value = [0, 1, 0]</text>\r\n",
       "<text text-anchor=\"middle\" x=\"378\" y=\"-119.3\" font-family=\"Times New Roman,serif\" font-size=\"14.00\">class = versicolor</text>\r\n",
       "</g>\r\n",
       "<!-- 9&#45;&gt;10 -->\r\n",
       "<g id=\"edge10\" class=\"edge\"><title>9&#45;&gt;10</title>\r\n",
       "<path fill=\"none\" stroke=\"black\" d=\"M381.265,-222.907C380.808,-212.204 380.313,-200.615 379.849,-189.776\"/>\r\n",
       "<polygon fill=\"black\" stroke=\"black\" points=\"383.341,-189.508 379.417,-179.667 376.348,-189.807 383.341,-189.508\"/>\r\n",
       "</g>\r\n",
       "<!-- 11 -->\r\n",
       "<g id=\"node12\" class=\"node\"><title>11</title>\r\n",
       "<polygon fill=\"#8139e5\" stroke=\"black\" points=\"561.5,-179.5 454.5,-179.5 454.5,-111.5 561.5,-111.5 561.5,-179.5\"/>\r\n",
       "<text text-anchor=\"middle\" x=\"508\" y=\"-164.3\" font-family=\"Times New Roman,serif\" font-size=\"14.00\">gini = 0.0</text>\r\n",
       "<text text-anchor=\"middle\" x=\"508\" y=\"-149.3\" font-family=\"Times New Roman,serif\" font-size=\"14.00\">samples = 2</text>\r\n",
       "<text text-anchor=\"middle\" x=\"508\" y=\"-134.3\" font-family=\"Times New Roman,serif\" font-size=\"14.00\">value = [0, 0, 2]</text>\r\n",
       "<text text-anchor=\"middle\" x=\"508\" y=\"-119.3\" font-family=\"Times New Roman,serif\" font-size=\"14.00\">class = virginica</text>\r\n",
       "</g>\r\n",
       "<!-- 9&#45;&gt;11 -->\r\n",
       "<g id=\"edge11\" class=\"edge\"><title>9&#45;&gt;11</title>\r\n",
       "<path fill=\"none\" stroke=\"black\" d=\"M426.368,-222.907C438.864,-211.211 452.49,-198.457 464.966,-186.78\"/>\r\n",
       "<polygon fill=\"black\" stroke=\"black\" points=\"467.656,-189.056 472.565,-179.667 462.873,-183.945 467.656,-189.056\"/>\r\n",
       "</g>\r\n",
       "</g>\r\n",
       "</svg>\r\n"
      ],
      "text/plain": [
       "<graphviz.files.Source at 0x24294f1fa90>"
      ]
     },
     "execution_count": 49,
     "metadata": {},
     "output_type": "execute_result"
    }
   ],
   "source": [
    "graphviz.Source(dot_graph)"
   ]
  },
  {
   "cell_type": "code",
   "execution_count": 50,
   "metadata": {},
   "outputs": [],
   "source": [
    "clf1 = DecisionTreeClassifier(max_depth=3)"
   ]
  },
  {
   "cell_type": "code",
   "execution_count": 51,
   "metadata": {},
   "outputs": [
    {
     "data": {
      "text/plain": [
       "DecisionTreeClassifier(class_weight=None, criterion='gini', max_depth=3,\n",
       "                       max_features=None, max_leaf_nodes=None,\n",
       "                       min_impurity_decrease=0.0, min_impurity_split=None,\n",
       "                       min_samples_leaf=1, min_samples_split=2,\n",
       "                       min_weight_fraction_leaf=0.0, presort=False,\n",
       "                       random_state=None, splitter='best')"
      ]
     },
     "execution_count": 51,
     "metadata": {},
     "output_type": "execute_result"
    }
   ],
   "source": [
    "clf1.fit(X_train,y_train)"
   ]
  },
  {
   "cell_type": "code",
   "execution_count": 52,
   "metadata": {},
   "outputs": [
    {
     "name": "stdout",
     "output_type": "stream",
     "text": [
      "트레인 세트 정확도: 0.98\n",
      "테스트 세트 정확도: 0.96\n"
     ]
    }
   ],
   "source": [
    "print('트레인 세트 정확도: {:.2f}'.format(clf1.score(X_train,y_train)))\n",
    "print('테스트 세트 정확도: {:.2f}'.format(clf1.score(X_test,y_test)))"
   ]
  },
  {
   "cell_type": "code",
   "execution_count": 53,
   "metadata": {},
   "outputs": [
    {
     "data": {
      "text/plain": [
       "array([0.        , 0.        , 0.58739009, 0.41260991])"
      ]
     },
     "execution_count": 53,
     "metadata": {},
     "output_type": "execute_result"
    }
   ],
   "source": [
    "clf1.feature_importances_"
   ]
  },
  {
   "cell_type": "code",
   "execution_count": 54,
   "metadata": {},
   "outputs": [],
   "source": [
    "import matplotlib.pyplot as plt\n",
    "import numpy as np\n",
    "import matplotlib.font_manager as fm\n",
    "\n",
    "font_path = 'C:\\\\WINDOWS\\\\Fonts\\\\malgun.ttf'\n",
    "font_name = fm.FontProperties(fname = font_path).get_name()\n",
    "plt.rcParams['font.family'] = font_name"
   ]
  },
  {
   "cell_type": "code",
   "execution_count": 55,
   "metadata": {},
   "outputs": [
    {
     "data": {
      "image/png": "[encoded data removed]",
      "text/plain": [
       "<Figure size 432x288 with 1 Axes>"
      ]
     },
     "metadata": {
      "needs_background": "light"
     },
     "output_type": "display_data"
    }
   ],
   "source": [
    "n_features = iris_dataset.data.shape[1]\n",
    "plt.barh(range(n_features), clf1.feature_importances_, align = 'center')\n",
    "plt.yticks(np.arange(n_features), iris_dataset.feature_names)\n",
    "plt.xlabel(\"변수 중요도\")\n",
    "plt.ylabel(\"특성\")\n",
    "plt.ylim(-1,n_features)\n",
    "plt.show()"
   ]
  },
  {
   "cell_type": "code",
   "execution_count": 56,
   "metadata": {},
   "outputs": [],
   "source": [
    "from sklearn.datasets import load_breast_cancer"
   ]
  },
  {
   "cell_type": "code",
   "execution_count": 57,
   "metadata": {},
   "outputs": [],
   "source": [
    "cancer_dataset = load_breast_cancer()\n",
    "\n",
    "X = cancer_dataset.data\n",
    "y = cancer_dataset.target\n",
    "X_train, X_test, y_train, y_test = train_test_split(X,y, train_size = 0.7, random_state=58)"
   ]
  },
  {
   "cell_type": "code",
   "execution_count": 58,
   "metadata": {},
   "outputs": [],
   "source": [
    "clf_tree = DecisionTreeClassifier(max_depth=None)"
   ]
  },
  {
   "cell_type": "code",
   "execution_count": 59,
   "metadata": {},
   "outputs": [
    {
     "data": {
      "text/plain": [
       "DecisionTreeClassifier(class_weight=None, criterion='gini', max_depth=None,\n",
       "                       max_features=None, max_leaf_nodes=None,\n",
       "                       min_impurity_decrease=0.0, min_impurity_split=None,\n",
       "                       min_samples_leaf=1, min_samples_split=2,\n",
       "                       min_weight_fraction_leaf=0.0, presort=False,\n",
       "                       random_state=None, splitter='best')"
      ]
     },
     "execution_count": 59,
     "metadata": {},
     "output_type": "execute_result"
    }
   ],
   "source": [
    "clf_tree.fit(X_train, y_train)"
   ]
  },
  {
   "cell_type": "code",
   "execution_count": 60,
   "metadata": {},
   "outputs": [
    {
     "data": {
      "image/svg+xml": [
       "<?xml version=\"1.0\" encoding=\"UTF-8\" standalone=\"no\"?>\r\n",
       "<!DOCTYPE svg PUBLIC \"-//W3C//DTD SVG 1.1//EN\"\r\n",
       " \"http://www.w3.org/Graphics/SVG/1.1/DTD/svg11.dtd\">\r\n",
       "<!-- Generated by graphviz version 2.38.0 (20140413.2041)\r\n",
       " -->\r\n",
       "<!-- Title: Tree Pages: 1 -->\r\n",
       "<svg width=\"1575pt\" height=\"1028pt\"\r\n",
       " viewBox=\"0.00 0.00 1574.50 1028.00\" xmlns=\"http://www.w3.org/2000/svg\" xmlns:xlink=\"http://www.w3.org/1999/xlink\">\r\n",
       "<g id=\"graph0\" class=\"graph\" transform=\"scale(1 1) rotate(0) translate(4 1024)\">\r\n",
       "<title>Tree</title>\r\n",
       "<polygon fill=\"white\" stroke=\"none\" points=\"-4,4 -4,-1024 1570.5,-1024 1570.5,4 -4,4\"/>\r\n",
       "<!-- 0 -->\r\n",
       "<g id=\"node1\" class=\"node\"><title>0</title>\r\n",
       "<polygon fill=\"#aad5f4\" stroke=\"black\" points=\"962.5,-1020 773.5,-1020 773.5,-937 962.5,-937 962.5,-1020\"/>\r\n",
       "<text text-anchor=\"middle\" x=\"868\" y=\"-1004.8\" font-family=\"Times New Roman,serif\" font-size=\"14.00\">mean concave points &lt;= 0.051</text>\r\n",
       "<text text-anchor=\"middle\" x=\"868\" y=\"-989.8\" font-family=\"Times New Roman,serif\" font-size=\"14.00\">gini = 0.463</text>\r\n",
       "<text text-anchor=\"middle\" x=\"868\" y=\"-974.8\" font-family=\"Times New Roman,serif\" font-size=\"14.00\">samples = 398</text>\r\n",
       "<text text-anchor=\"middle\" x=\"868\" y=\"-959.8\" font-family=\"Times New Roman,serif\" font-size=\"14.00\">value = [145, 253]</text>\r\n",
       "<text text-anchor=\"middle\" x=\"868\" y=\"-944.8\" font-family=\"Times New Roman,serif\" font-size=\"14.00\">class = benign</text>\r\n",
       "</g>\r\n",
       "<!-- 1 -->\r\n",
       "<g id=\"node2\" class=\"node\"><title>1</title>\r\n",
       "<polygon fill=\"#45a3e7\" stroke=\"black\" points=\"825,-901 685,-901 685,-818 825,-818 825,-901\"/>\r\n",
       "<text text-anchor=\"middle\" x=\"755\" y=\"-885.8\" font-family=\"Times New Roman,serif\" font-size=\"14.00\">worst radius &lt;= 16.83</text>\r\n",
       "<text text-anchor=\"middle\" x=\"755\" y=\"-870.8\" font-family=\"Times New Roman,serif\" font-size=\"14.00\">gini = 0.112</text>\r\n",
       "<text text-anchor=\"middle\" x=\"755\" y=\"-855.8\" font-family=\"Times New Roman,serif\" font-size=\"14.00\">samples = 253</text>\r\n",
       "<text text-anchor=\"middle\" x=\"755\" y=\"-840.8\" font-family=\"Times New Roman,serif\" font-size=\"14.00\">value = [15, 238]</text>\r\n",
       "<text text-anchor=\"middle\" x=\"755\" y=\"-825.8\" font-family=\"Times New Roman,serif\" font-size=\"14.00\">class = benign</text>\r\n",
       "</g>\r\n",
       "<!-- 0&#45;&gt;1 -->\r\n",
       "<g id=\"edge1\" class=\"edge\"><title>0&#45;&gt;1</title>\r\n",
       "<path fill=\"none\" stroke=\"black\" d=\"M828.795,-936.907C819.943,-927.742 810.463,-917.927 801.348,-908.489\"/>\r\n",
       "<polygon fill=\"black\" stroke=\"black\" points=\"803.6,-905.782 794.135,-901.021 798.565,-910.645 803.6,-905.782\"/>\r\n",
       "<text text-anchor=\"middle\" x=\"793.701\" y=\"-922.317\" font-family=\"Times New Roman,serif\" font-size=\"14.00\">True</text>\r\n",
       "</g>\r\n",
       "<!-- 24 -->\r\n",
       "<g id=\"node25\" class=\"node\"><title>24</title>\r\n",
       "<polygon fill=\"#e89050\" stroke=\"black\" points=\"1063.5,-901 898.5,-901 898.5,-818 1063.5,-818 1063.5,-901\"/>\r\n",
       "<text text-anchor=\"middle\" x=\"981\" y=\"-885.8\" font-family=\"Times New Roman,serif\" font-size=\"14.00\">worst perimeter &lt;= 103.25</text>\r\n",
       "<text text-anchor=\"middle\" x=\"981\" y=\"-870.8\" font-family=\"Times New Roman,serif\" font-size=\"14.00\">gini = 0.185</text>\r\n",
       "<text text-anchor=\"middle\" x=\"981\" y=\"-855.8\" font-family=\"Times New Roman,serif\" font-size=\"14.00\">samples = 145</text>\r\n",
       "<text text-anchor=\"middle\" x=\"981\" y=\"-840.8\" font-family=\"Times New Roman,serif\" font-size=\"14.00\">value = [130, 15]</text>\r\n",
       "<text text-anchor=\"middle\" x=\"981\" y=\"-825.8\" font-family=\"Times New Roman,serif\" font-size=\"14.00\">class = malignant</text>\r\n",
       "</g>\r\n",
       "<!-- 0&#45;&gt;24 -->\r\n",
       "<g id=\"edge24\" class=\"edge\"><title>0&#45;&gt;24</title>\r\n",
       "<path fill=\"none\" stroke=\"black\" d=\"M907.205,-936.907C916.057,-927.742 925.537,-917.927 934.652,-908.489\"/>\r\n",
       "<polygon fill=\"black\" stroke=\"black\" points=\"937.435,-910.645 941.865,-901.021 932.4,-905.782 937.435,-910.645\"/>\r\n",
       "<text text-anchor=\"middle\" x=\"942.299\" y=\"-922.317\" font-family=\"Times New Roman,serif\" font-size=\"14.00\">False</text>\r\n",
       "</g>\r\n",
       "<!-- 2 -->\r\n",
       "<g id=\"node3\" class=\"node\"><title>2</title>\r\n",
       "<polygon fill=\"#3d9fe6\" stroke=\"black\" points=\"607,-782 489,-782 489,-699 607,-699 607,-782\"/>\r\n",
       "<text text-anchor=\"middle\" x=\"548\" y=\"-766.8\" font-family=\"Times New Roman,serif\" font-size=\"14.00\">area error &lt;= 48.7</text>\r\n",
       "<text text-anchor=\"middle\" x=\"548\" y=\"-751.8\" font-family=\"Times New Roman,serif\" font-size=\"14.00\">gini = 0.041</text>\r\n",
       "<text text-anchor=\"middle\" x=\"548\" y=\"-736.8\" font-family=\"Times New Roman,serif\" font-size=\"14.00\">samples = 237</text>\r\n",
       "<text text-anchor=\"middle\" x=\"548\" y=\"-721.8\" font-family=\"Times New Roman,serif\" font-size=\"14.00\">value = [5, 232]</text>\r\n",
       "<text text-anchor=\"middle\" x=\"548\" y=\"-706.8\" font-family=\"Times New Roman,serif\" font-size=\"14.00\">class = benign</text>\r\n",
       "</g>\r\n",
       "<!-- 1&#45;&gt;2 -->\r\n",
       "<g id=\"edge2\" class=\"edge\"><title>1&#45;&gt;2</title>\r\n",
       "<path fill=\"none\" stroke=\"black\" d=\"M684.919,-818.889C662.756,-806.362 638.302,-792.54 616.267,-780.086\"/>\r\n",
       "<polygon fill=\"black\" stroke=\"black\" points=\"617.737,-776.896 607.309,-775.023 614.293,-782.99 617.737,-776.896\"/>\r\n",
       "</g>\r\n",
       "<!-- 19 -->\r\n",
       "<g id=\"node20\" class=\"node\"><title>19</title>\r\n",
       "<polygon fill=\"#f5cdb0\" stroke=\"black\" points=\"829.5,-782 680.5,-782 680.5,-699 829.5,-699 829.5,-782\"/>\r\n",
       "<text text-anchor=\"middle\" x=\"755\" y=\"-766.8\" font-family=\"Times New Roman,serif\" font-size=\"14.00\">mean texture &lt;= 15.805</text>\r\n",
       "<text text-anchor=\"middle\" x=\"755\" y=\"-751.8\" font-family=\"Times New Roman,serif\" font-size=\"14.00\">gini = 0.469</text>\r\n",
       "<text text-anchor=\"middle\" x=\"755\" y=\"-736.8\" font-family=\"Times New Roman,serif\" font-size=\"14.00\">samples = 16</text>\r\n",
       "<text text-anchor=\"middle\" x=\"755\" y=\"-721.8\" font-family=\"Times New Roman,serif\" font-size=\"14.00\">value = [10, 6]</text>\r\n",
       "<text text-anchor=\"middle\" x=\"755\" y=\"-706.8\" font-family=\"Times New Roman,serif\" font-size=\"14.00\">class = malignant</text>\r\n",
       "</g>\r\n",
       "<!-- 1&#45;&gt;19 -->\r\n",
       "<g id=\"edge19\" class=\"edge\"><title>1&#45;&gt;19</title>\r\n",
       "<path fill=\"none\" stroke=\"black\" d=\"M755,-817.907C755,-809.649 755,-800.864 755,-792.302\"/>\r\n",
       "<polygon fill=\"black\" stroke=\"black\" points=\"758.5,-792.021 755,-782.021 751.5,-792.021 758.5,-792.021\"/>\r\n",
       "</g>\r\n",
       "<!-- 3 -->\r\n",
       "<g id=\"node4\" class=\"node\"><title>3</title>\r\n",
       "<polygon fill=\"#3c9ee5\" stroke=\"black\" points=\"451,-663 269,-663 269,-580 451,-580 451,-663\"/>\r\n",
       "<text text-anchor=\"middle\" x=\"360\" y=\"-647.8\" font-family=\"Times New Roman,serif\" font-size=\"14.00\">mean concave points &lt;= 0.05</text>\r\n",
       "<text text-anchor=\"middle\" x=\"360\" y=\"-632.8\" font-family=\"Times New Roman,serif\" font-size=\"14.00\">gini = 0.025</text>\r\n",
       "<text text-anchor=\"middle\" x=\"360\" y=\"-617.8\" font-family=\"Times New Roman,serif\" font-size=\"14.00\">samples = 234</text>\r\n",
       "<text text-anchor=\"middle\" x=\"360\" y=\"-602.8\" font-family=\"Times New Roman,serif\" font-size=\"14.00\">value = [3, 231]</text>\r\n",
       "<text text-anchor=\"middle\" x=\"360\" y=\"-587.8\" font-family=\"Times New Roman,serif\" font-size=\"14.00\">class = benign</text>\r\n",
       "</g>\r\n",
       "<!-- 2&#45;&gt;3 -->\r\n",
       "<g id=\"edge3\" class=\"edge\"><title>2&#45;&gt;3</title>\r\n",
       "<path fill=\"none\" stroke=\"black\" d=\"M488.774,-702.641C471.385,-691.819 452.148,-679.847 433.96,-668.528\"/>\r\n",
       "<polygon fill=\"black\" stroke=\"black\" points=\"435.468,-665.345 425.129,-663.032 431.77,-671.288 435.468,-665.345\"/>\r\n",
       "</g>\r\n",
       "<!-- 16 -->\r\n",
       "<g id=\"node17\" class=\"node\"><title>16</title>\r\n",
       "<polygon fill=\"#f2c09c\" stroke=\"black\" points=\"626.5,-663 469.5,-663 469.5,-580 626.5,-580 626.5,-663\"/>\r\n",
       "<text text-anchor=\"middle\" x=\"548\" y=\"-647.8\" font-family=\"Times New Roman,serif\" font-size=\"14.00\">symmetry error &lt;= 0.025</text>\r\n",
       "<text text-anchor=\"middle\" x=\"548\" y=\"-632.8\" font-family=\"Times New Roman,serif\" font-size=\"14.00\">gini = 0.444</text>\r\n",
       "<text text-anchor=\"middle\" x=\"548\" y=\"-617.8\" font-family=\"Times New Roman,serif\" font-size=\"14.00\">samples = 3</text>\r\n",
       "<text text-anchor=\"middle\" x=\"548\" y=\"-602.8\" font-family=\"Times New Roman,serif\" font-size=\"14.00\">value = [2, 1]</text>\r\n",
       "<text text-anchor=\"middle\" x=\"548\" y=\"-587.8\" font-family=\"Times New Roman,serif\" font-size=\"14.00\">class = malignant</text>\r\n",
       "</g>\r\n",
       "<!-- 2&#45;&gt;16 -->\r\n",
       "<g id=\"edge16\" class=\"edge\"><title>2&#45;&gt;16</title>\r\n",
       "<path fill=\"none\" stroke=\"black\" d=\"M548,-698.907C548,-690.649 548,-681.864 548,-673.302\"/>\r\n",
       "<polygon fill=\"black\" stroke=\"black\" points=\"551.5,-673.021 548,-663.021 544.5,-673.021 551.5,-673.021\"/>\r\n",
       "</g>\r\n",
       "<!-- 4 -->\r\n",
       "<g id=\"node5\" class=\"node\"><title>4</title>\r\n",
       "<polygon fill=\"#3b9ee5\" stroke=\"black\" points=\"252.5,-544 101.5,-544 101.5,-461 252.5,-461 252.5,-544\"/>\r\n",
       "<text text-anchor=\"middle\" x=\"177\" y=\"-528.8\" font-family=\"Times New Roman,serif\" font-size=\"14.00\">worst texture &lt;= 30.145</text>\r\n",
       "<text text-anchor=\"middle\" x=\"177\" y=\"-513.8\" font-family=\"Times New Roman,serif\" font-size=\"14.00\">gini = 0.017</text>\r\n",
       "<text text-anchor=\"middle\" x=\"177\" y=\"-498.8\" font-family=\"Times New Roman,serif\" font-size=\"14.00\">samples = 231</text>\r\n",
       "<text text-anchor=\"middle\" x=\"177\" y=\"-483.8\" font-family=\"Times New Roman,serif\" font-size=\"14.00\">value = [2, 229]</text>\r\n",
       "<text text-anchor=\"middle\" x=\"177\" y=\"-468.8\" font-family=\"Times New Roman,serif\" font-size=\"14.00\">class = benign</text>\r\n",
       "</g>\r\n",
       "<!-- 3&#45;&gt;4 -->\r\n",
       "<g id=\"edge4\" class=\"edge\"><title>3&#45;&gt;4</title>\r\n",
       "<path fill=\"none\" stroke=\"black\" d=\"M296.509,-579.907C281.179,-570.106 264.688,-559.563 249,-549.533\"/>\r\n",
       "<polygon fill=\"black\" stroke=\"black\" points=\"250.689,-546.459 240.379,-544.021 246.919,-552.356 250.689,-546.459\"/>\r\n",
       "</g>\r\n",
       "<!-- 13 -->\r\n",
       "<g id=\"node14\" class=\"node\"><title>13</title>\r\n",
       "<polygon fill=\"#9ccef2\" stroke=\"black\" points=\"459.5,-544 270.5,-544 270.5,-461 459.5,-461 459.5,-544\"/>\r\n",
       "<text text-anchor=\"middle\" x=\"365\" y=\"-528.8\" font-family=\"Times New Roman,serif\" font-size=\"14.00\">mean concave points &lt;= 0.051</text>\r\n",
       "<text text-anchor=\"middle\" x=\"365\" y=\"-513.8\" font-family=\"Times New Roman,serif\" font-size=\"14.00\">gini = 0.444</text>\r\n",
       "<text text-anchor=\"middle\" x=\"365\" y=\"-498.8\" font-family=\"Times New Roman,serif\" font-size=\"14.00\">samples = 3</text>\r\n",
       "<text text-anchor=\"middle\" x=\"365\" y=\"-483.8\" font-family=\"Times New Roman,serif\" font-size=\"14.00\">value = [1, 2]</text>\r\n",
       "<text text-anchor=\"middle\" x=\"365\" y=\"-468.8\" font-family=\"Times New Roman,serif\" font-size=\"14.00\">class = benign</text>\r\n",
       "</g>\r\n",
       "<!-- 3&#45;&gt;13 -->\r\n",
       "<g id=\"edge13\" class=\"edge\"><title>3&#45;&gt;13</title>\r\n",
       "<path fill=\"none\" stroke=\"black\" d=\"M361.735,-579.907C362.092,-571.558 362.471,-562.671 362.841,-554.02\"/>\r\n",
       "<polygon fill=\"black\" stroke=\"black\" points=\"366.338,-554.161 363.268,-544.021 359.344,-553.862 366.338,-554.161\"/>\r\n",
       "</g>\r\n",
       "<!-- 5 -->\r\n",
       "<g id=\"node6\" class=\"node\"><title>5</title>\r\n",
       "<polygon fill=\"#399de5\" stroke=\"black\" points=\"104,-417.5 0,-417.5 0,-349.5 104,-349.5 104,-417.5\"/>\r\n",
       "<text text-anchor=\"middle\" x=\"52\" y=\"-402.3\" font-family=\"Times New Roman,serif\" font-size=\"14.00\">gini = 0.0</text>\r\n",
       "<text text-anchor=\"middle\" x=\"52\" y=\"-387.3\" font-family=\"Times New Roman,serif\" font-size=\"14.00\">samples = 204</text>\r\n",
       "<text text-anchor=\"middle\" x=\"52\" y=\"-372.3\" font-family=\"Times New Roman,serif\" font-size=\"14.00\">value = [0, 204]</text>\r\n",
       "<text text-anchor=\"middle\" x=\"52\" y=\"-357.3\" font-family=\"Times New Roman,serif\" font-size=\"14.00\">class = benign</text>\r\n",
       "</g>\r\n",
       "<!-- 4&#45;&gt;5 -->\r\n",
       "<g id=\"edge5\" class=\"edge\"><title>4&#45;&gt;5</title>\r\n",
       "<path fill=\"none\" stroke=\"black\" d=\"M133.632,-460.907C121.136,-449.211 107.51,-436.457 95.0339,-424.78\"/>\r\n",
       "<polygon fill=\"black\" stroke=\"black\" points=\"97.1274,-421.945 87.4348,-417.667 92.3439,-427.056 97.1274,-421.945\"/>\r\n",
       "</g>\r\n",
       "<!-- 6 -->\r\n",
       "<g id=\"node7\" class=\"node\"><title>6</title>\r\n",
       "<polygon fill=\"#49a5e7\" stroke=\"black\" points=\"255.5,-425 122.5,-425 122.5,-342 255.5,-342 255.5,-425\"/>\r\n",
       "<text text-anchor=\"middle\" x=\"189\" y=\"-409.8\" font-family=\"Times New Roman,serif\" font-size=\"14.00\">texture error &lt;= 0.86</text>\r\n",
       "<text text-anchor=\"middle\" x=\"189\" y=\"-394.8\" font-family=\"Times New Roman,serif\" font-size=\"14.00\">gini = 0.137</text>\r\n",
       "<text text-anchor=\"middle\" x=\"189\" y=\"-379.8\" font-family=\"Times New Roman,serif\" font-size=\"14.00\">samples = 27</text>\r\n",
       "<text text-anchor=\"middle\" x=\"189\" y=\"-364.8\" font-family=\"Times New Roman,serif\" font-size=\"14.00\">value = [2, 25]</text>\r\n",
       "<text text-anchor=\"middle\" x=\"189\" y=\"-349.8\" font-family=\"Times New Roman,serif\" font-size=\"14.00\">class = benign</text>\r\n",
       "</g>\r\n",
       "<!-- 4&#45;&gt;6 -->\r\n",
       "<g id=\"edge6\" class=\"edge\"><title>4&#45;&gt;6</title>\r\n",
       "<path fill=\"none\" stroke=\"black\" d=\"M181.163,-460.907C182.02,-452.558 182.931,-443.671 183.818,-435.02\"/>\r\n",
       "<polygon fill=\"black\" stroke=\"black\" points=\"187.305,-435.326 184.844,-425.021 180.342,-434.611 187.305,-435.326\"/>\r\n",
       "</g>\r\n",
       "<!-- 7 -->\r\n",
       "<g id=\"node8\" class=\"node\"><title>7</title>\r\n",
       "<polygon fill=\"#e58139\" stroke=\"black\" points=\"169.5,-298.5 56.5,-298.5 56.5,-230.5 169.5,-230.5 169.5,-298.5\"/>\r\n",
       "<text text-anchor=\"middle\" x=\"113\" y=\"-283.3\" font-family=\"Times New Roman,serif\" font-size=\"14.00\">gini = 0.0</text>\r\n",
       "<text text-anchor=\"middle\" x=\"113\" y=\"-268.3\" font-family=\"Times New Roman,serif\" font-size=\"14.00\">samples = 1</text>\r\n",
       "<text text-anchor=\"middle\" x=\"113\" y=\"-253.3\" font-family=\"Times New Roman,serif\" font-size=\"14.00\">value = [1, 0]</text>\r\n",
       "<text text-anchor=\"middle\" x=\"113\" y=\"-238.3\" font-family=\"Times New Roman,serif\" font-size=\"14.00\">class = malignant</text>\r\n",
       "</g>\r\n",
       "<!-- 6&#45;&gt;7 -->\r\n",
       "<g id=\"edge7\" class=\"edge\"><title>6&#45;&gt;7</title>\r\n",
       "<path fill=\"none\" stroke=\"black\" d=\"M162.632,-341.907C155.321,-330.652 147.374,-318.418 140.026,-307.106\"/>\r\n",
       "<polygon fill=\"black\" stroke=\"black\" points=\"142.927,-305.146 134.544,-298.667 137.057,-308.96 142.927,-305.146\"/>\r\n",
       "</g>\r\n",
       "<!-- 8 -->\r\n",
       "<g id=\"node9\" class=\"node\"><title>8</title>\r\n",
       "<polygon fill=\"#41a1e6\" stroke=\"black\" points=\"342,-306 188,-306 188,-223 342,-223 342,-306\"/>\r\n",
       "<text text-anchor=\"middle\" x=\"265\" y=\"-290.8\" font-family=\"Times New Roman,serif\" font-size=\"14.00\">perimeter error &lt;= 1.467</text>\r\n",
       "<text text-anchor=\"middle\" x=\"265\" y=\"-275.8\" font-family=\"Times New Roman,serif\" font-size=\"14.00\">gini = 0.074</text>\r\n",
       "<text text-anchor=\"middle\" x=\"265\" y=\"-260.8\" font-family=\"Times New Roman,serif\" font-size=\"14.00\">samples = 26</text>\r\n",
       "<text text-anchor=\"middle\" x=\"265\" y=\"-245.8\" font-family=\"Times New Roman,serif\" font-size=\"14.00\">value = [1, 25]</text>\r\n",
       "<text text-anchor=\"middle\" x=\"265\" y=\"-230.8\" font-family=\"Times New Roman,serif\" font-size=\"14.00\">class = benign</text>\r\n",
       "</g>\r\n",
       "<!-- 6&#45;&gt;8 -->\r\n",
       "<g id=\"edge8\" class=\"edge\"><title>6&#45;&gt;8</title>\r\n",
       "<path fill=\"none\" stroke=\"black\" d=\"M215.368,-341.907C221.086,-333.105 227.193,-323.703 233.098,-314.612\"/>\r\n",
       "<polygon fill=\"black\" stroke=\"black\" points=\"236.167,-316.313 238.679,-306.021 230.296,-312.5 236.167,-316.313\"/>\r\n",
       "</g>\r\n",
       "<!-- 9 -->\r\n",
       "<g id=\"node10\" class=\"node\"><title>9</title>\r\n",
       "<polygon fill=\"#6ab6ec\" stroke=\"black\" points=\"266,-187 126,-187 126,-104 266,-104 266,-187\"/>\r\n",
       "<text text-anchor=\"middle\" x=\"196\" y=\"-171.8\" font-family=\"Times New Roman,serif\" font-size=\"14.00\">worst radius &lt;= 13.77</text>\r\n",
       "<text text-anchor=\"middle\" x=\"196\" y=\"-156.8\" font-family=\"Times New Roman,serif\" font-size=\"14.00\">gini = 0.32</text>\r\n",
       "<text text-anchor=\"middle\" x=\"196\" y=\"-141.8\" font-family=\"Times New Roman,serif\" font-size=\"14.00\">samples = 5</text>\r\n",
       "<text text-anchor=\"middle\" x=\"196\" y=\"-126.8\" font-family=\"Times New Roman,serif\" font-size=\"14.00\">value = [1, 4]</text>\r\n",
       "<text text-anchor=\"middle\" x=\"196\" y=\"-111.8\" font-family=\"Times New Roman,serif\" font-size=\"14.00\">class = benign</text>\r\n",
       "</g>\r\n",
       "<!-- 8&#45;&gt;9 -->\r\n",
       "<g id=\"edge9\" class=\"edge\"><title>8&#45;&gt;9</title>\r\n",
       "<path fill=\"none\" stroke=\"black\" d=\"M241.061,-222.907C235.923,-214.195 230.439,-204.897 225.129,-195.893\"/>\r\n",
       "<polygon fill=\"black\" stroke=\"black\" points=\"227.992,-193.857 219.897,-187.021 221.962,-197.412 227.992,-193.857\"/>\r\n",
       "</g>\r\n",
       "<!-- 12 -->\r\n",
       "<g id=\"node13\" class=\"node\"><title>12</title>\r\n",
       "<polygon fill=\"#399de5\" stroke=\"black\" points=\"382,-179.5 284,-179.5 284,-111.5 382,-111.5 382,-179.5\"/>\r\n",
       "<text text-anchor=\"middle\" x=\"333\" y=\"-164.3\" font-family=\"Times New Roman,serif\" font-size=\"14.00\">gini = 0.0</text>\r\n",
       "<text text-anchor=\"middle\" x=\"333\" y=\"-149.3\" font-family=\"Times New Roman,serif\" font-size=\"14.00\">samples = 21</text>\r\n",
       "<text text-anchor=\"middle\" x=\"333\" y=\"-134.3\" font-family=\"Times New Roman,serif\" font-size=\"14.00\">value = [0, 21]</text>\r\n",
       "<text text-anchor=\"middle\" x=\"333\" y=\"-119.3\" font-family=\"Times New Roman,serif\" font-size=\"14.00\">class = benign</text>\r\n",
       "</g>\r\n",
       "<!-- 8&#45;&gt;12 -->\r\n",
       "<g id=\"edge12\" class=\"edge\"><title>8&#45;&gt;12</title>\r\n",
       "<path fill=\"none\" stroke=\"black\" d=\"M288.592,-222.907C295.07,-211.763 302.105,-199.658 308.625,-188.439\"/>\r\n",
       "<polygon fill=\"black\" stroke=\"black\" points=\"311.725,-190.072 313.723,-179.667 305.672,-186.554 311.725,-190.072\"/>\r\n",
       "</g>\r\n",
       "<!-- 10 -->\r\n",
       "<g id=\"node11\" class=\"node\"><title>10</title>\r\n",
       "<polygon fill=\"#399de5\" stroke=\"black\" points=\"183.5,-68 86.5,-68 86.5,-0 183.5,-0 183.5,-68\"/>\r\n",
       "<text text-anchor=\"middle\" x=\"135\" y=\"-52.8\" font-family=\"Times New Roman,serif\" font-size=\"14.00\">gini = 0.0</text>\r\n",
       "<text text-anchor=\"middle\" x=\"135\" y=\"-37.8\" font-family=\"Times New Roman,serif\" font-size=\"14.00\">samples = 4</text>\r\n",
       "<text text-anchor=\"middle\" x=\"135\" y=\"-22.8\" font-family=\"Times New Roman,serif\" font-size=\"14.00\">value = [0, 4]</text>\r\n",
       "<text text-anchor=\"middle\" x=\"135\" y=\"-7.8\" font-family=\"Times New Roman,serif\" font-size=\"14.00\">class = benign</text>\r\n",
       "</g>\r\n",
       "<!-- 9&#45;&gt;10 -->\r\n",
       "<g id=\"edge10\" class=\"edge\"><title>9&#45;&gt;10</title>\r\n",
       "<path fill=\"none\" stroke=\"black\" d=\"M173.286,-103.726C168.459,-95.0615 163.353,-85.8962 158.498,-77.1802\"/>\r\n",
       "<polygon fill=\"black\" stroke=\"black\" points=\"161.475,-75.3322 153.55,-68.2996 155.36,-78.7389 161.475,-75.3322\"/>\r\n",
       "</g>\r\n",
       "<!-- 11 -->\r\n",
       "<g id=\"node12\" class=\"node\"><title>11</title>\r\n",
       "<polygon fill=\"#e58139\" stroke=\"black\" points=\"314.5,-68 201.5,-68 201.5,-0 314.5,-0 314.5,-68\"/>\r\n",
       "<text text-anchor=\"middle\" x=\"258\" y=\"-52.8\" font-family=\"Times New Roman,serif\" font-size=\"14.00\">gini = 0.0</text>\r\n",
       "<text text-anchor=\"middle\" x=\"258\" y=\"-37.8\" font-family=\"Times New Roman,serif\" font-size=\"14.00\">samples = 1</text>\r\n",
       "<text text-anchor=\"middle\" x=\"258\" y=\"-22.8\" font-family=\"Times New Roman,serif\" font-size=\"14.00\">value = [1, 0]</text>\r\n",
       "<text text-anchor=\"middle\" x=\"258\" y=\"-7.8\" font-family=\"Times New Roman,serif\" font-size=\"14.00\">class = malignant</text>\r\n",
       "</g>\r\n",
       "<!-- 9&#45;&gt;11 -->\r\n",
       "<g id=\"edge11\" class=\"edge\"><title>9&#45;&gt;11</title>\r\n",
       "<path fill=\"none\" stroke=\"black\" d=\"M219.087,-103.726C223.993,-95.0615 229.182,-85.8962 234.117,-77.1802\"/>\r\n",
       "<polygon fill=\"black\" stroke=\"black\" points=\"237.264,-78.726 239.145,-68.2996 231.173,-75.277 237.264,-78.726\"/>\r\n",
       "</g>\r\n",
       "<!-- 14 -->\r\n",
       "<g id=\"node15\" class=\"node\"><title>14</title>\r\n",
       "<polygon fill=\"#e58139\" stroke=\"black\" points=\"398.5,-417.5 285.5,-417.5 285.5,-349.5 398.5,-349.5 398.5,-417.5\"/>\r\n",
       "<text text-anchor=\"middle\" x=\"342\" y=\"-402.3\" font-family=\"Times New Roman,serif\" font-size=\"14.00\">gini = 0.0</text>\r\n",
       "<text text-anchor=\"middle\" x=\"342\" y=\"-387.3\" font-family=\"Times New Roman,serif\" font-size=\"14.00\">samples = 1</text>\r\n",
       "<text text-anchor=\"middle\" x=\"342\" y=\"-372.3\" font-family=\"Times New Roman,serif\" font-size=\"14.00\">value = [1, 0]</text>\r\n",
       "<text text-anchor=\"middle\" x=\"342\" y=\"-357.3\" font-family=\"Times New Roman,serif\" font-size=\"14.00\">class = malignant</text>\r\n",
       "</g>\r\n",
       "<!-- 13&#45;&gt;14 -->\r\n",
       "<g id=\"edge14\" class=\"edge\"><title>13&#45;&gt;14</title>\r\n",
       "<path fill=\"none\" stroke=\"black\" d=\"M357.02,-460.907C354.916,-450.204 352.638,-438.615 350.507,-427.776\"/>\r\n",
       "<polygon fill=\"black\" stroke=\"black\" points=\"353.883,-426.804 348.52,-417.667 347.015,-428.154 353.883,-426.804\"/>\r\n",
       "</g>\r\n",
       "<!-- 15 -->\r\n",
       "<g id=\"node16\" class=\"node\"><title>15</title>\r\n",
       "<polygon fill=\"#399de5\" stroke=\"black\" points=\"513.5,-417.5 416.5,-417.5 416.5,-349.5 513.5,-349.5 513.5,-417.5\"/>\r\n",
       "<text text-anchor=\"middle\" x=\"465\" y=\"-402.3\" font-family=\"Times New Roman,serif\" font-size=\"14.00\">gini = 0.0</text>\r\n",
       "<text text-anchor=\"middle\" x=\"465\" y=\"-387.3\" font-family=\"Times New Roman,serif\" font-size=\"14.00\">samples = 2</text>\r\n",
       "<text text-anchor=\"middle\" x=\"465\" y=\"-372.3\" font-family=\"Times New Roman,serif\" font-size=\"14.00\">value = [0, 2]</text>\r\n",
       "<text text-anchor=\"middle\" x=\"465\" y=\"-357.3\" font-family=\"Times New Roman,serif\" font-size=\"14.00\">class = benign</text>\r\n",
       "</g>\r\n",
       "<!-- 13&#45;&gt;15 -->\r\n",
       "<g id=\"edge15\" class=\"edge\"><title>13&#45;&gt;15</title>\r\n",
       "<path fill=\"none\" stroke=\"black\" d=\"M399.695,-460.907C409.503,-449.432 420.181,-436.938 430.007,-425.442\"/>\r\n",
       "<polygon fill=\"black\" stroke=\"black\" points=\"432.816,-427.543 436.652,-417.667 427.494,-422.995 432.816,-427.543\"/>\r\n",
       "</g>\r\n",
       "<!-- 17 -->\r\n",
       "<g id=\"node18\" class=\"node\"><title>17</title>\r\n",
       "<polygon fill=\"#e58139\" stroke=\"black\" points=\"599.5,-536.5 486.5,-536.5 486.5,-468.5 599.5,-468.5 599.5,-536.5\"/>\r\n",
       "<text text-anchor=\"middle\" x=\"543\" y=\"-521.3\" font-family=\"Times New Roman,serif\" font-size=\"14.00\">gini = 0.0</text>\r\n",
       "<text text-anchor=\"middle\" x=\"543\" y=\"-506.3\" font-family=\"Times New Roman,serif\" font-size=\"14.00\">samples = 2</text>\r\n",
       "<text text-anchor=\"middle\" x=\"543\" y=\"-491.3\" font-family=\"Times New Roman,serif\" font-size=\"14.00\">value = [2, 0]</text>\r\n",
       "<text text-anchor=\"middle\" x=\"543\" y=\"-476.3\" font-family=\"Times New Roman,serif\" font-size=\"14.00\">class = malignant</text>\r\n",
       "</g>\r\n",
       "<!-- 16&#45;&gt;17 -->\r\n",
       "<g id=\"edge17\" class=\"edge\"><title>16&#45;&gt;17</title>\r\n",
       "<path fill=\"none\" stroke=\"black\" d=\"M546.265,-579.907C545.808,-569.204 545.313,-557.615 544.849,-546.776\"/>\r\n",
       "<polygon fill=\"black\" stroke=\"black\" points=\"548.341,-546.508 544.417,-536.667 541.348,-546.807 548.341,-546.508\"/>\r\n",
       "</g>\r\n",
       "<!-- 18 -->\r\n",
       "<g id=\"node19\" class=\"node\"><title>18</title>\r\n",
       "<polygon fill=\"#399de5\" stroke=\"black\" points=\"714.5,-536.5 617.5,-536.5 617.5,-468.5 714.5,-468.5 714.5,-536.5\"/>\r\n",
       "<text text-anchor=\"middle\" x=\"666\" y=\"-521.3\" font-family=\"Times New Roman,serif\" font-size=\"14.00\">gini = 0.0</text>\r\n",
       "<text text-anchor=\"middle\" x=\"666\" y=\"-506.3\" font-family=\"Times New Roman,serif\" font-size=\"14.00\">samples = 1</text>\r\n",
       "<text text-anchor=\"middle\" x=\"666\" y=\"-491.3\" font-family=\"Times New Roman,serif\" font-size=\"14.00\">value = [0, 1]</text>\r\n",
       "<text text-anchor=\"middle\" x=\"666\" y=\"-476.3\" font-family=\"Times New Roman,serif\" font-size=\"14.00\">class = benign</text>\r\n",
       "</g>\r\n",
       "<!-- 16&#45;&gt;18 -->\r\n",
       "<g id=\"edge18\" class=\"edge\"><title>16&#45;&gt;18</title>\r\n",
       "<path fill=\"none\" stroke=\"black\" d=\"M588.94,-579.907C600.736,-568.211 613.599,-555.457 625.376,-543.78\"/>\r\n",
       "<polygon fill=\"black\" stroke=\"black\" points=\"627.913,-546.193 632.55,-536.667 622.984,-541.222 627.913,-546.193\"/>\r\n",
       "</g>\r\n",
       "<!-- 20 -->\r\n",
       "<g id=\"node21\" class=\"node\"><title>20</title>\r\n",
       "<polygon fill=\"#399de5\" stroke=\"black\" points=\"741.5,-655.5 644.5,-655.5 644.5,-587.5 741.5,-587.5 741.5,-655.5\"/>\r\n",
       "<text text-anchor=\"middle\" x=\"693\" y=\"-640.3\" font-family=\"Times New Roman,serif\" font-size=\"14.00\">gini = 0.0</text>\r\n",
       "<text text-anchor=\"middle\" x=\"693\" y=\"-625.3\" font-family=\"Times New Roman,serif\" font-size=\"14.00\">samples = 5</text>\r\n",
       "<text text-anchor=\"middle\" x=\"693\" y=\"-610.3\" font-family=\"Times New Roman,serif\" font-size=\"14.00\">value = [0, 5]</text>\r\n",
       "<text text-anchor=\"middle\" x=\"693\" y=\"-595.3\" font-family=\"Times New Roman,serif\" font-size=\"14.00\">class = benign</text>\r\n",
       "</g>\r\n",
       "<!-- 19&#45;&gt;20 -->\r\n",
       "<g id=\"edge20\" class=\"edge\"><title>19&#45;&gt;20</title>\r\n",
       "<path fill=\"none\" stroke=\"black\" d=\"M733.489,-698.907C727.642,-687.873 721.296,-675.898 715.401,-664.773\"/>\r\n",
       "<polygon fill=\"black\" stroke=\"black\" points=\"718.351,-662.864 710.576,-655.667 712.165,-666.142 718.351,-662.864\"/>\r\n",
       "</g>\r\n",
       "<!-- 21 -->\r\n",
       "<g id=\"node22\" class=\"node\"><title>21</title>\r\n",
       "<polygon fill=\"#e88e4d\" stroke=\"black\" points=\"896,-663 760,-663 760,-580 896,-580 896,-663\"/>\r\n",
       "<text text-anchor=\"middle\" x=\"828\" y=\"-647.8\" font-family=\"Times New Roman,serif\" font-size=\"14.00\">radius error &lt;= 0.474</text>\r\n",
       "<text text-anchor=\"middle\" x=\"828\" y=\"-632.8\" font-family=\"Times New Roman,serif\" font-size=\"14.00\">gini = 0.165</text>\r\n",
       "<text text-anchor=\"middle\" x=\"828\" y=\"-617.8\" font-family=\"Times New Roman,serif\" font-size=\"14.00\">samples = 11</text>\r\n",
       "<text text-anchor=\"middle\" x=\"828\" y=\"-602.8\" font-family=\"Times New Roman,serif\" font-size=\"14.00\">value = [10, 1]</text>\r\n",
       "<text text-anchor=\"middle\" x=\"828\" y=\"-587.8\" font-family=\"Times New Roman,serif\" font-size=\"14.00\">class = malignant</text>\r\n",
       "</g>\r\n",
       "<!-- 19&#45;&gt;21 -->\r\n",
       "<g id=\"edge21\" class=\"edge\"><title>19&#45;&gt;21</title>\r\n",
       "<path fill=\"none\" stroke=\"black\" d=\"M780.327,-698.907C785.819,-690.105 791.685,-680.703 797.357,-671.612\"/>\r\n",
       "<polygon fill=\"black\" stroke=\"black\" points=\"800.394,-673.358 802.718,-663.021 794.455,-669.652 800.394,-673.358\"/>\r\n",
       "</g>\r\n",
       "<!-- 22 -->\r\n",
       "<g id=\"node23\" class=\"node\"><title>22</title>\r\n",
       "<polygon fill=\"#e58139\" stroke=\"black\" points=\"865.5,-536.5 752.5,-536.5 752.5,-468.5 865.5,-468.5 865.5,-536.5\"/>\r\n",
       "<text text-anchor=\"middle\" x=\"809\" y=\"-521.3\" font-family=\"Times New Roman,serif\" font-size=\"14.00\">gini = 0.0</text>\r\n",
       "<text text-anchor=\"middle\" x=\"809\" y=\"-506.3\" font-family=\"Times New Roman,serif\" font-size=\"14.00\">samples = 10</text>\r\n",
       "<text text-anchor=\"middle\" x=\"809\" y=\"-491.3\" font-family=\"Times New Roman,serif\" font-size=\"14.00\">value = [10, 0]</text>\r\n",
       "<text text-anchor=\"middle\" x=\"809\" y=\"-476.3\" font-family=\"Times New Roman,serif\" font-size=\"14.00\">class = malignant</text>\r\n",
       "</g>\r\n",
       "<!-- 21&#45;&gt;22 -->\r\n",
       "<g id=\"edge22\" class=\"edge\"><title>21&#45;&gt;22</title>\r\n",
       "<path fill=\"none\" stroke=\"black\" d=\"M821.408,-579.907C819.67,-569.204 817.788,-557.615 816.028,-546.776\"/>\r\n",
       "<polygon fill=\"black\" stroke=\"black\" points=\"819.444,-545.977 814.386,-536.667 812.534,-547.099 819.444,-545.977\"/>\r\n",
       "</g>\r\n",
       "<!-- 23 -->\r\n",
       "<g id=\"node24\" class=\"node\"><title>23</title>\r\n",
       "<polygon fill=\"#399de5\" stroke=\"black\" points=\"980.5,-536.5 883.5,-536.5 883.5,-468.5 980.5,-468.5 980.5,-536.5\"/>\r\n",
       "<text text-anchor=\"middle\" x=\"932\" y=\"-521.3\" font-family=\"Times New Roman,serif\" font-size=\"14.00\">gini = 0.0</text>\r\n",
       "<text text-anchor=\"middle\" x=\"932\" y=\"-506.3\" font-family=\"Times New Roman,serif\" font-size=\"14.00\">samples = 1</text>\r\n",
       "<text text-anchor=\"middle\" x=\"932\" y=\"-491.3\" font-family=\"Times New Roman,serif\" font-size=\"14.00\">value = [0, 1]</text>\r\n",
       "<text text-anchor=\"middle\" x=\"932\" y=\"-476.3\" font-family=\"Times New Roman,serif\" font-size=\"14.00\">class = benign</text>\r\n",
       "</g>\r\n",
       "<!-- 21&#45;&gt;23 -->\r\n",
       "<g id=\"edge23\" class=\"edge\"><title>21&#45;&gt;23</title>\r\n",
       "<path fill=\"none\" stroke=\"black\" d=\"M864.082,-579.907C874.283,-568.432 885.388,-555.938 895.607,-544.442\"/>\r\n",
       "<polygon fill=\"black\" stroke=\"black\" points=\"898.491,-546.466 902.518,-536.667 893.259,-541.816 898.491,-546.466\"/>\r\n",
       "</g>\r\n",
       "<!-- 25 -->\r\n",
       "<g id=\"node26\" class=\"node\"><title>25</title>\r\n",
       "<polygon fill=\"#88c4ef\" stroke=\"black\" points=\"1056.5,-782 905.5,-782 905.5,-699 1056.5,-699 1056.5,-782\"/>\r\n",
       "<text text-anchor=\"middle\" x=\"981\" y=\"-766.8\" font-family=\"Times New Roman,serif\" font-size=\"14.00\">worst texture &lt;= 25.985</text>\r\n",
       "<text text-anchor=\"middle\" x=\"981\" y=\"-751.8\" font-family=\"Times New Roman,serif\" font-size=\"14.00\">gini = 0.408</text>\r\n",
       "<text text-anchor=\"middle\" x=\"981\" y=\"-736.8\" font-family=\"Times New Roman,serif\" font-size=\"14.00\">samples = 14</text>\r\n",
       "<text text-anchor=\"middle\" x=\"981\" y=\"-721.8\" font-family=\"Times New Roman,serif\" font-size=\"14.00\">value = [4, 10]</text>\r\n",
       "<text text-anchor=\"middle\" x=\"981\" y=\"-706.8\" font-family=\"Times New Roman,serif\" font-size=\"14.00\">class = benign</text>\r\n",
       "</g>\r\n",
       "<!-- 24&#45;&gt;25 -->\r\n",
       "<g id=\"edge25\" class=\"edge\"><title>24&#45;&gt;25</title>\r\n",
       "<path fill=\"none\" stroke=\"black\" d=\"M981,-817.907C981,-809.649 981,-800.864 981,-792.302\"/>\r\n",
       "<polygon fill=\"black\" stroke=\"black\" points=\"984.5,-792.021 981,-782.021 977.5,-792.021 984.5,-792.021\"/>\r\n",
       "</g>\r\n",
       "<!-- 28 -->\r\n",
       "<g id=\"node29\" class=\"node\"><title>28</title>\r\n",
       "<polygon fill=\"#e68641\" stroke=\"black\" points=\"1301.5,-782 1150.5,-782 1150.5,-699 1301.5,-699 1301.5,-782\"/>\r\n",
       "<text text-anchor=\"middle\" x=\"1226\" y=\"-766.8\" font-family=\"Times New Roman,serif\" font-size=\"14.00\">worst texture &lt;= 20.875</text>\r\n",
       "<text text-anchor=\"middle\" x=\"1226\" y=\"-751.8\" font-family=\"Times New Roman,serif\" font-size=\"14.00\">gini = 0.073</text>\r\n",
       "<text text-anchor=\"middle\" x=\"1226\" y=\"-736.8\" font-family=\"Times New Roman,serif\" font-size=\"14.00\">samples = 131</text>\r\n",
       "<text text-anchor=\"middle\" x=\"1226\" y=\"-721.8\" font-family=\"Times New Roman,serif\" font-size=\"14.00\">value = [126, 5]</text>\r\n",
       "<text text-anchor=\"middle\" x=\"1226\" y=\"-706.8\" font-family=\"Times New Roman,serif\" font-size=\"14.00\">class = malignant</text>\r\n",
       "</g>\r\n",
       "<!-- 24&#45;&gt;28 -->\r\n",
       "<g id=\"edge28\" class=\"edge\"><title>24&#45;&gt;28</title>\r\n",
       "<path fill=\"none\" stroke=\"black\" d=\"M1063.6,-819.052C1088.6,-807.117 1116.08,-793.994 1141.21,-781.992\"/>\r\n",
       "<polygon fill=\"black\" stroke=\"black\" points=\"1142.84,-785.093 1150.35,-777.625 1139.82,-778.776 1142.84,-785.093\"/>\r\n",
       "</g>\r\n",
       "<!-- 26 -->\r\n",
       "<g id=\"node27\" class=\"node\"><title>26</title>\r\n",
       "<polygon fill=\"#399de5\" stroke=\"black\" points=\"1012,-655.5 914,-655.5 914,-587.5 1012,-587.5 1012,-655.5\"/>\r\n",
       "<text text-anchor=\"middle\" x=\"963\" y=\"-640.3\" font-family=\"Times New Roman,serif\" font-size=\"14.00\">gini = 0.0</text>\r\n",
       "<text text-anchor=\"middle\" x=\"963\" y=\"-625.3\" font-family=\"Times New Roman,serif\" font-size=\"14.00\">samples = 10</text>\r\n",
       "<text text-anchor=\"middle\" x=\"963\" y=\"-610.3\" font-family=\"Times New Roman,serif\" font-size=\"14.00\">value = [0, 10]</text>\r\n",
       "<text text-anchor=\"middle\" x=\"963\" y=\"-595.3\" font-family=\"Times New Roman,serif\" font-size=\"14.00\">class = benign</text>\r\n",
       "</g>\r\n",
       "<!-- 25&#45;&gt;26 -->\r\n",
       "<g id=\"edge26\" class=\"edge\"><title>25&#45;&gt;26</title>\r\n",
       "<path fill=\"none\" stroke=\"black\" d=\"M974.755,-698.907C973.108,-688.204 971.325,-676.615 969.658,-665.776\"/>\r\n",
       "<polygon fill=\"black\" stroke=\"black\" points=\"973.083,-665.018 968.103,-655.667 966.164,-666.083 973.083,-665.018\"/>\r\n",
       "</g>\r\n",
       "<!-- 27 -->\r\n",
       "<g id=\"node28\" class=\"node\"><title>27</title>\r\n",
       "<polygon fill=\"#e58139\" stroke=\"black\" points=\"1143.5,-655.5 1030.5,-655.5 1030.5,-587.5 1143.5,-587.5 1143.5,-655.5\"/>\r\n",
       "<text text-anchor=\"middle\" x=\"1087\" y=\"-640.3\" font-family=\"Times New Roman,serif\" font-size=\"14.00\">gini = 0.0</text>\r\n",
       "<text text-anchor=\"middle\" x=\"1087\" y=\"-625.3\" font-family=\"Times New Roman,serif\" font-size=\"14.00\">samples = 4</text>\r\n",
       "<text text-anchor=\"middle\" x=\"1087\" y=\"-610.3\" font-family=\"Times New Roman,serif\" font-size=\"14.00\">value = [4, 0]</text>\r\n",
       "<text text-anchor=\"middle\" x=\"1087\" y=\"-595.3\" font-family=\"Times New Roman,serif\" font-size=\"14.00\">class = malignant</text>\r\n",
       "</g>\r\n",
       "<!-- 25&#45;&gt;27 -->\r\n",
       "<g id=\"edge27\" class=\"edge\"><title>25&#45;&gt;27</title>\r\n",
       "<path fill=\"none\" stroke=\"black\" d=\"M1017.78,-698.907C1028.27,-687.321 1039.71,-674.698 1050.21,-663.111\"/>\r\n",
       "<polygon fill=\"black\" stroke=\"black\" points=\"1052.83,-665.428 1056.95,-655.667 1047.64,-660.728 1052.83,-665.428\"/>\r\n",
       "</g>\r\n",
       "<!-- 29 -->\r\n",
       "<g id=\"node30\" class=\"node\"><title>29</title>\r\n",
       "<polygon fill=\"#f6d5bd\" stroke=\"black\" points=\"1290.5,-663 1161.5,-663 1161.5,-580 1290.5,-580 1290.5,-663\"/>\r\n",
       "<text text-anchor=\"middle\" x=\"1226\" y=\"-647.8\" font-family=\"Times New Roman,serif\" font-size=\"14.00\">worst area &lt;= 918.9</text>\r\n",
       "<text text-anchor=\"middle\" x=\"1226\" y=\"-632.8\" font-family=\"Times New Roman,serif\" font-size=\"14.00\">gini = 0.48</text>\r\n",
       "<text text-anchor=\"middle\" x=\"1226\" y=\"-617.8\" font-family=\"Times New Roman,serif\" font-size=\"14.00\">samples = 10</text>\r\n",
       "<text text-anchor=\"middle\" x=\"1226\" y=\"-602.8\" font-family=\"Times New Roman,serif\" font-size=\"14.00\">value = [6, 4]</text>\r\n",
       "<text text-anchor=\"middle\" x=\"1226\" y=\"-587.8\" font-family=\"Times New Roman,serif\" font-size=\"14.00\">class = malignant</text>\r\n",
       "</g>\r\n",
       "<!-- 28&#45;&gt;29 -->\r\n",
       "<g id=\"edge29\" class=\"edge\"><title>28&#45;&gt;29</title>\r\n",
       "<path fill=\"none\" stroke=\"black\" d=\"M1226,-698.907C1226,-690.649 1226,-681.864 1226,-673.302\"/>\r\n",
       "<polygon fill=\"black\" stroke=\"black\" points=\"1229.5,-673.021 1226,-663.021 1222.5,-673.021 1229.5,-673.021\"/>\r\n",
       "</g>\r\n",
       "<!-- 32 -->\r\n",
       "<g id=\"node33\" class=\"node\"><title>32</title>\r\n",
       "<polygon fill=\"#e5823b\" stroke=\"black\" points=\"1505.5,-663 1308.5,-663 1308.5,-580 1505.5,-580 1505.5,-663\"/>\r\n",
       "<text text-anchor=\"middle\" x=\"1407\" y=\"-647.8\" font-family=\"Times New Roman,serif\" font-size=\"14.00\">fractal dimension error &lt;= 0.013</text>\r\n",
       "<text text-anchor=\"middle\" x=\"1407\" y=\"-632.8\" font-family=\"Times New Roman,serif\" font-size=\"14.00\">gini = 0.016</text>\r\n",
       "<text text-anchor=\"middle\" x=\"1407\" y=\"-617.8\" font-family=\"Times New Roman,serif\" font-size=\"14.00\">samples = 121</text>\r\n",
       "<text text-anchor=\"middle\" x=\"1407\" y=\"-602.8\" font-family=\"Times New Roman,serif\" font-size=\"14.00\">value = [120, 1]</text>\r\n",
       "<text text-anchor=\"middle\" x=\"1407\" y=\"-587.8\" font-family=\"Times New Roman,serif\" font-size=\"14.00\">class = malignant</text>\r\n",
       "</g>\r\n",
       "<!-- 28&#45;&gt;32 -->\r\n",
       "<g id=\"edge32\" class=\"edge\"><title>28&#45;&gt;32</title>\r\n",
       "<path fill=\"none\" stroke=\"black\" d=\"M1288.8,-698.907C1303.96,-689.106 1320.27,-678.563 1335.79,-668.533\"/>\r\n",
       "<polygon fill=\"black\" stroke=\"black\" points=\"1337.82,-671.389 1344.31,-663.021 1334.02,-665.51 1337.82,-671.389\"/>\r\n",
       "</g>\r\n",
       "<!-- 30 -->\r\n",
       "<g id=\"node31\" class=\"node\"><title>30</title>\r\n",
       "<polygon fill=\"#399de5\" stroke=\"black\" points=\"1164.5,-536.5 1067.5,-536.5 1067.5,-468.5 1164.5,-468.5 1164.5,-536.5\"/>\r\n",
       "<text text-anchor=\"middle\" x=\"1116\" y=\"-521.3\" font-family=\"Times New Roman,serif\" font-size=\"14.00\">gini = 0.0</text>\r\n",
       "<text text-anchor=\"middle\" x=\"1116\" y=\"-506.3\" font-family=\"Times New Roman,serif\" font-size=\"14.00\">samples = 4</text>\r\n",
       "<text text-anchor=\"middle\" x=\"1116\" y=\"-491.3\" font-family=\"Times New Roman,serif\" font-size=\"14.00\">value = [0, 4]</text>\r\n",
       "<text text-anchor=\"middle\" x=\"1116\" y=\"-476.3\" font-family=\"Times New Roman,serif\" font-size=\"14.00\">class = benign</text>\r\n",
       "</g>\r\n",
       "<!-- 29&#45;&gt;30 -->\r\n",
       "<g id=\"edge30\" class=\"edge\"><title>29&#45;&gt;30</title>\r\n",
       "<path fill=\"none\" stroke=\"black\" d=\"M1187.84,-579.907C1176.94,-568.321 1165.07,-555.698 1154.18,-544.111\"/>\r\n",
       "<polygon fill=\"black\" stroke=\"black\" points=\"1156.58,-541.555 1147.18,-536.667 1151.48,-546.35 1156.58,-541.555\"/>\r\n",
       "</g>\r\n",
       "<!-- 31 -->\r\n",
       "<g id=\"node32\" class=\"node\"><title>31</title>\r\n",
       "<polygon fill=\"#e58139\" stroke=\"black\" points=\"1295.5,-536.5 1182.5,-536.5 1182.5,-468.5 1295.5,-468.5 1295.5,-536.5\"/>\r\n",
       "<text text-anchor=\"middle\" x=\"1239\" y=\"-521.3\" font-family=\"Times New Roman,serif\" font-size=\"14.00\">gini = 0.0</text>\r\n",
       "<text text-anchor=\"middle\" x=\"1239\" y=\"-506.3\" font-family=\"Times New Roman,serif\" font-size=\"14.00\">samples = 6</text>\r\n",
       "<text text-anchor=\"middle\" x=\"1239\" y=\"-491.3\" font-family=\"Times New Roman,serif\" font-size=\"14.00\">value = [6, 0]</text>\r\n",
       "<text text-anchor=\"middle\" x=\"1239\" y=\"-476.3\" font-family=\"Times New Roman,serif\" font-size=\"14.00\">class = malignant</text>\r\n",
       "</g>\r\n",
       "<!-- 29&#45;&gt;31 -->\r\n",
       "<g id=\"edge31\" class=\"edge\"><title>29&#45;&gt;31</title>\r\n",
       "<path fill=\"none\" stroke=\"black\" d=\"M1230.51,-579.907C1231.7,-569.204 1232.99,-557.615 1234.19,-546.776\"/>\r\n",
       "<polygon fill=\"black\" stroke=\"black\" points=\"1237.69,-546.992 1235.31,-536.667 1230.73,-546.219 1237.69,-546.992\"/>\r\n",
       "</g>\r\n",
       "<!-- 33 -->\r\n",
       "<g id=\"node34\" class=\"node\"><title>33</title>\r\n",
       "<polygon fill=\"#e58139\" stroke=\"black\" points=\"1451.5,-536.5 1338.5,-536.5 1338.5,-468.5 1451.5,-468.5 1451.5,-536.5\"/>\r\n",
       "<text text-anchor=\"middle\" x=\"1395\" y=\"-521.3\" font-family=\"Times New Roman,serif\" font-size=\"14.00\">gini = 0.0</text>\r\n",
       "<text text-anchor=\"middle\" x=\"1395\" y=\"-506.3\" font-family=\"Times New Roman,serif\" font-size=\"14.00\">samples = 120</text>\r\n",
       "<text text-anchor=\"middle\" x=\"1395\" y=\"-491.3\" font-family=\"Times New Roman,serif\" font-size=\"14.00\">value = [120, 0]</text>\r\n",
       "<text text-anchor=\"middle\" x=\"1395\" y=\"-476.3\" font-family=\"Times New Roman,serif\" font-size=\"14.00\">class = malignant</text>\r\n",
       "</g>\r\n",
       "<!-- 32&#45;&gt;33 -->\r\n",
       "<g id=\"edge33\" class=\"edge\"><title>32&#45;&gt;33</title>\r\n",
       "<path fill=\"none\" stroke=\"black\" d=\"M1402.84,-579.907C1401.74,-569.204 1400.55,-557.615 1399.44,-546.776\"/>\r\n",
       "<polygon fill=\"black\" stroke=\"black\" points=\"1402.9,-546.258 1398.4,-536.667 1395.94,-546.972 1402.9,-546.258\"/>\r\n",
       "</g>\r\n",
       "<!-- 34 -->\r\n",
       "<g id=\"node35\" class=\"node\"><title>34</title>\r\n",
       "<polygon fill=\"#399de5\" stroke=\"black\" points=\"1566.5,-536.5 1469.5,-536.5 1469.5,-468.5 1566.5,-468.5 1566.5,-536.5\"/>\r\n",
       "<text text-anchor=\"middle\" x=\"1518\" y=\"-521.3\" font-family=\"Times New Roman,serif\" font-size=\"14.00\">gini = 0.0</text>\r\n",
       "<text text-anchor=\"middle\" x=\"1518\" y=\"-506.3\" font-family=\"Times New Roman,serif\" font-size=\"14.00\">samples = 1</text>\r\n",
       "<text text-anchor=\"middle\" x=\"1518\" y=\"-491.3\" font-family=\"Times New Roman,serif\" font-size=\"14.00\">value = [0, 1]</text>\r\n",
       "<text text-anchor=\"middle\" x=\"1518\" y=\"-476.3\" font-family=\"Times New Roman,serif\" font-size=\"14.00\">class = benign</text>\r\n",
       "</g>\r\n",
       "<!-- 32&#45;&gt;34 -->\r\n",
       "<g id=\"edge34\" class=\"edge\"><title>32&#45;&gt;34</title>\r\n",
       "<path fill=\"none\" stroke=\"black\" d=\"M1445.51,-579.907C1456.5,-568.321 1468.48,-555.698 1479.47,-544.111\"/>\r\n",
       "<polygon fill=\"black\" stroke=\"black\" points=\"1482.19,-546.331 1486.53,-536.667 1477.11,-541.513 1482.19,-546.331\"/>\r\n",
       "</g>\r\n",
       "</g>\r\n",
       "</svg>\r\n"
      ],
      "text/plain": [
       "<graphviz.files.Source at 0x24295f1edd8>"
      ]
     },
     "execution_count": 60,
     "metadata": {},
     "output_type": "execute_result"
    }
   ],
   "source": [
    "export_graphviz(clf_tree, out_file = \"./tree_data/cancer_tree.dot\",\n",
    "               feature_names= cancer_dataset.feature_names,\n",
    "               class_names= cancer_dataset.target_names,\n",
    "               filled =True)\n",
    "\n",
    "with open(\"./tree_data/cancer_tree.dot\") as f:\n",
    "    dot_graph = f.read()\n",
    "\n",
    "graphviz.Source(dot_graph)"
   ]
  },
  {
   "cell_type": "code",
   "execution_count": 71,
   "metadata": {},
   "outputs": [
    {
     "data": {
      "text/plain": [
       "'cancer_tree.png'"
      ]
     },
     "execution_count": 71,
     "metadata": {},
     "output_type": "execute_result"
    }
   ],
   "source": [
    "cancer_graph = graphviz.Source(dot_graph)\n",
    "cancer_graph.format = 'png'\n",
    "cancer_graph.render(filename='cancer_tree')"
   ]
  },
  {
   "cell_type": "code",
   "execution_count": 62,
   "metadata": {},
   "outputs": [],
   "source": [
    "from sklearn.tree import DecisionTreeClassifier\n",
    "\n",
    "import matplotlib.font_manager as fm\n",
    "\n",
    "font_path = 'C:\\\\WINDOWS\\\\Fonts\\\\malgun.ttf'\n",
    "font_name = fm.FontProperties(fname = font_path).get_name()\n",
    "plt.rcParams['font.family'] = font_name"
   ]
  },
  {
   "cell_type": "code",
   "execution_count": 63,
   "metadata": {},
   "outputs": [],
   "source": [
    "depth = range(1,31)\n",
    "train_acc_tree = []\n",
    "test_acc_tree = []\n",
    "for i in depth:\n",
    "    clf_tree = DecisionTreeClassifier(max_depth=i)\n",
    "    clf_tree.fit(X_train,y_train)\n",
    "    train_acc_tree.append(clf_tree.score(X_train,y_train))\n",
    "    test_acc_tree.append(clf_tree.score(X_test,y_test))"
   ]
  },
  {
   "cell_type": "code",
   "execution_count": 64,
   "metadata": {},
   "outputs": [
    {
     "data": {
      "image/png": "[encoded data removed]",
      "text/plain": [
       "<Figure size 432x288 with 1 Axes>"
      ]
     },
     "metadata": {
      "needs_background": "light"
     },
     "output_type": "display_data"
    }
   ],
   "source": [
    "plt.plot(depth, train_acc_tree, label = '훈련 데이터')\n",
    "plt.plot(depth, test_acc_tree, label = '테스트 데이터')\n",
    "plt.xticks(depth, depth)\n",
    "plt.legend()\n",
    "plt.show()"
   ]
  },
  {
   "cell_type": "code",
   "execution_count": null,
   "metadata": {},
   "outputs": [],
   "source": []
  }
 ],
 "metadata": {
  "kernelspec": {
   "display_name": "Python 3",
   "language": "python",
   "name": "python3"
  },
  "language_info": {
   "codemirror_mode": {
    "name": "ipython",
    "version": 3
   },
   "file_extension": ".py",
   "mimetype": "text/x-python",
   "name": "python",
   "nbconvert_exporter": "python",
   "pygments_lexer": "ipython3",
   "version": "3.7.3"
  }
 },
 "nbformat": 4,
 "nbformat_minor": 4
}
