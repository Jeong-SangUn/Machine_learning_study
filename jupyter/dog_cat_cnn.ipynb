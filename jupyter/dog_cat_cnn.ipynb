{
 "cells": [
  {
   "cell_type": "markdown",
   "metadata": {},
   "source": [
    "# 소규모 데이터셋에서 컨브넷 사용\n",
    "\n",
    "## 개 vs. 고양이"
   ]
  },
  {
   "cell_type": "markdown",
   "metadata": {},
   "source": [
    "## 데이터 내려받기\n",
    "\n",
    "`https://www.kaggle.com/c/dogs-vs-cats/data` (계정 만들기)\n",
    "\n",
    "![cats_vs_dogs_samples](https://s3.amazonaws.com/book.keras.io/img/ch5/cats_vs_dogs_samples.jpg)"
   ]
  },
  {
   "cell_type": "markdown",
   "metadata": {},
   "source": [
    "25,000개의 강아지와 고양이 이미지(클래스마다 12,500개)  \n",
    "\n",
    "**`모든 이미지를 사용하지 않고 일부 데이터만 이용.`**\n",
    "\n",
    "클래스별 1,000개의 샘플로 이루어진 훈련 세트  \n",
    "\n",
    "클래스별 500개의 샘플로 이루어진 검증 세트  \n",
    "\n",
    "클래스별 500개의 샘플로 이루어진 테스트 세트로 데이터 재구성"
   ]
  },
  {
   "cell_type": "code",
   "execution_count": 1,
   "metadata": {},
   "outputs": [
    {
     "name": "stderr",
     "output_type": "stream",
     "text": [
      "Using TensorFlow backend.\n"
     ]
    }
   ],
   "source": [
    "import keras\n",
    "import os, shutil"
   ]
  },
  {
   "cell_type": "code",
   "execution_count": 2,
   "metadata": {},
   "outputs": [],
   "source": [
    "# 원본 데이터셋을 압축 해제한 디렉터리 경로\n",
    "original_dataset_dir = './data/dogs-vs-cats/train'\n",
    "\n",
    "# 소규모 데이터셋을 저장할 디렉터리\n",
    "base_dir = './data/cats_and_dogs_small'\n",
    "if os.path.exists(base_dir):  # 반복 실행하는 경우 기존 디렉토리 삭제\n",
    "    shutil.rmtree(base_dir)\n",
    "os.mkdir(base_dir)\n",
    "\n",
    "# 훈련, 검증, 테스트 분할을 위한 디렉터리\n",
    "train_dir = os.path.join(base_dir, 'train')\n",
    "os.mkdir(train_dir)\n",
    "validation_dir = os.path.join(base_dir, 'validation')\n",
    "os.mkdir(validation_dir)\n",
    "test_dir = os.path.join(base_dir, 'test')\n",
    "os.mkdir(test_dir)\n",
    "\n",
    "# 훈련용 고양이 사진 디렉터리\n",
    "train_cats_dir = os.path.join(train_dir, 'cats')\n",
    "os.mkdir(train_cats_dir)\n",
    "\n",
    "# 훈련용 강아지 사진 디렉터리\n",
    "train_dogs_dir = os.path.join(train_dir, 'dogs')\n",
    "os.mkdir(train_dogs_dir)\n",
    "\n",
    "# 검증용 고양이 사진 디렉터리\n",
    "validation_cats_dir = os.path.join(validation_dir, 'cats')\n",
    "os.mkdir(validation_cats_dir)\n",
    "\n",
    "# 검증용 강아지 사진 디렉터리\n",
    "validation_dogs_dir = os.path.join(validation_dir, 'dogs')\n",
    "os.mkdir(validation_dogs_dir)\n",
    "\n",
    "# 테스트용 고양이 사진 디렉터리\n",
    "test_cats_dir = os.path.join(test_dir, 'cats')\n",
    "os.mkdir(test_cats_dir)\n",
    "\n",
    "# 테스트용 강아지 사진 디렉터리\n",
    "test_dogs_dir = os.path.join(test_dir, 'dogs')\n",
    "os.mkdir(test_dogs_dir)\n",
    "\n",
    "# 처음 1,000개의 고양이 이미지를 train_cats_dir에 복사\n",
    "fnames = ['cat.{}.jpg'.format(i) for i in range(1000)]\n",
    "for fname in fnames:\n",
    "    src = os.path.join(original_dataset_dir, fname)\n",
    "    dst = os.path.join(train_cats_dir, fname)\n",
    "    shutil.copyfile(src, dst)\n",
    "\n",
    "# 다음 500개 고양이 이미지를 validation_cats_dir에 복사\n",
    "fnames = ['cat.{}.jpg'.format(i) for i in range(1000, 1500)]\n",
    "for fname in fnames:\n",
    "    src = os.path.join(original_dataset_dir, fname)\n",
    "    dst = os.path.join(validation_cats_dir, fname)\n",
    "    shutil.copyfile(src, dst)\n",
    "    \n",
    "# 다음 500개 고양이 이미지를 test_cats_dir에 복사\n",
    "fnames = ['cat.{}.jpg'.format(i) for i in range(1500, 2000)]\n",
    "for fname in fnames:\n",
    "    src = os.path.join(original_dataset_dir, fname)\n",
    "    dst = os.path.join(test_cats_dir, fname)\n",
    "    shutil.copyfile(src, dst)\n",
    "    \n",
    "# 처음 1,000개의 강아지 이미지를 train_dogs_dir에 복사\n",
    "fnames = ['dog.{}.jpg'.format(i) for i in range(1000)]\n",
    "for fname in fnames:\n",
    "    src = os.path.join(original_dataset_dir, fname)\n",
    "    dst = os.path.join(train_dogs_dir, fname)\n",
    "    shutil.copyfile(src, dst)\n",
    "    \n",
    "# 다음 500개 강아지 이미지를 validation_dogs_dir에 복사\n",
    "fnames = ['dog.{}.jpg'.format(i) for i in range(1000, 1500)]\n",
    "for fname in fnames:\n",
    "    src = os.path.join(original_dataset_dir, fname)\n",
    "    dst = os.path.join(validation_dogs_dir, fname)\n",
    "    shutil.copyfile(src, dst)\n",
    "    \n",
    "# 다음 500개 강아지 이미지를 test_dogs_dir에 복사\n",
    "fnames = ['dog.{}.jpg'.format(i) for i in range(1500, 2000)]\n",
    "for fname in fnames:\n",
    "    src = os.path.join(original_dataset_dir, fname)\n",
    "    dst = os.path.join(test_dogs_dir, fname)\n",
    "    shutil.copyfile(src, dst)"
   ]
  },
  {
   "cell_type": "markdown",
   "metadata": {},
   "source": [
    "### 데이터 확인"
   ]
  },
  {
   "cell_type": "code",
   "execution_count": 3,
   "metadata": {},
   "outputs": [
    {
     "name": "stdout",
     "output_type": "stream",
     "text": [
      "훈련용 고양이 이미지 전체 개수: 1000\n"
     ]
    }
   ],
   "source": [
    "print('훈련용 고양이 이미지 전체 개수:', len(os.listdir(train_cats_dir)))"
   ]
  },
  {
   "cell_type": "code",
   "execution_count": 4,
   "metadata": {},
   "outputs": [
    {
     "name": "stdout",
     "output_type": "stream",
     "text": [
      "훈련용 강아지 이미지 전체 개수: 1000\n"
     ]
    }
   ],
   "source": [
    "print('훈련용 강아지 이미지 전체 개수:', len(os.listdir(train_dogs_dir)))"
   ]
  },
  {
   "cell_type": "code",
   "execution_count": 5,
   "metadata": {},
   "outputs": [
    {
     "name": "stdout",
     "output_type": "stream",
     "text": [
      "검증용 고양이 이미지 전체 개수: 500\n"
     ]
    }
   ],
   "source": [
    "print('검증용 고양이 이미지 전체 개수:', len(os.listdir(validation_cats_dir)))"
   ]
  },
  {
   "cell_type": "code",
   "execution_count": 6,
   "metadata": {},
   "outputs": [
    {
     "name": "stdout",
     "output_type": "stream",
     "text": [
      "검증용 강아지 이미지 전체 개수: 500\n"
     ]
    }
   ],
   "source": [
    "print('검증용 강아지 이미지 전체 개수:', len(os.listdir(validation_dogs_dir)))"
   ]
  },
  {
   "cell_type": "code",
   "execution_count": 7,
   "metadata": {},
   "outputs": [
    {
     "name": "stdout",
     "output_type": "stream",
     "text": [
      "테스트용 고양이 이미지 전체 개수: 500\n"
     ]
    }
   ],
   "source": [
    "print('테스트용 고양이 이미지 전체 개수:', len(os.listdir(test_cats_dir)))"
   ]
  },
  {
   "cell_type": "code",
   "execution_count": 8,
   "metadata": {},
   "outputs": [
    {
     "name": "stdout",
     "output_type": "stream",
     "text": [
      "테스트용 강아지 이미지 전체 개수: 500\n"
     ]
    }
   ],
   "source": [
    "print('테스트용 강아지 이미지 전체 개수:', len(os.listdir(test_dogs_dir)))"
   ]
  },
  {
   "cell_type": "markdown",
   "metadata": {},
   "source": [
    "## 네트워크 구성하기\n",
    "\n",
    "- mnist 보다 이미지가 크고 복잡한 문제이기 때문에 네트워크를 좀 더 크게 생성   \n",
    "--> `Conv2D` + `MaxPooling2D` 단계를 하나 더 추가 \n",
    "\n",
    "- 네트워크의 용량을 늘리고 `Flatten` 층의 크기가 너무 커지지 않도록 특성 맵의 크기를 줄임\n",
    "\n",
    "- 150 × 150 크기의 입력으로 시작해서 `Flatten` 층 이전에 7 × 7 크기의 특성 맵으로 감소\n",
    "\n",
    "- 특성 맵의 깊이는 네트워크에서 점진적으로 증가하지만(32에서 128까지), 특성 맵의 크기는 감소(150 × 150에서 7 × 7까지)  \n",
    "--> 이는 거의 모든 컨브넷에서 볼 수 있는 전형적인 패턴"
   ]
  },
  {
   "cell_type": "code",
   "execution_count": 9,
   "metadata": {},
   "outputs": [],
   "source": [
    "from keras import layers\n",
    "from keras import models\n",
    "\n",
    "model = models.Sequential()\n",
    "model.add(layers.Conv2D(32, (3, 3), activation='relu',\n",
    "                        input_shape=(150, 150, 3)))\n",
    "model.add(layers.MaxPooling2D((2, 2)))\n",
    "model.add(layers.Conv2D(64, (3, 3), activation='relu'))\n",
    "model.add(layers.MaxPooling2D((2, 2)))\n",
    "model.add(layers.Conv2D(128, (3, 3), activation='relu'))\n",
    "model.add(layers.MaxPooling2D((2, 2)))\n",
    "model.add(layers.Conv2D(128, (3, 3), activation='relu'))\n",
    "model.add(layers.MaxPooling2D((2, 2)))\n",
    "\n",
    "model.add(layers.Dropout(0.5)) \n",
    "#신경망에서는 나쁜 데이터도 학습에 사용하는 경우가 많기 때문에 노이즈를 섞어 50%를 0으로 바꾼다. -> 일반화를 더 잘 시킴\n",
    "\n",
    "model.add(layers.Flatten())\n",
    "model.add(layers.Dense(512, activation='relu'))\n",
    "model.add(layers.Dense(1, activation='sigmoid'))"
   ]
  },
  {
   "cell_type": "code",
   "execution_count": 10,
   "metadata": {},
   "outputs": [
    {
     "name": "stdout",
     "output_type": "stream",
     "text": [
      "Model: \"sequential_1\"\n",
      "_________________________________________________________________\n",
      "Layer (type)                 Output Shape              Param #   \n",
      "=================================================================\n",
      "conv2d_1 (Conv2D)            (None, 148, 148, 32)      896       \n",
      "_________________________________________________________________\n",
      "max_pooling2d_1 (MaxPooling2 (None, 74, 74, 32)        0         \n",
      "_________________________________________________________________\n",
      "conv2d_2 (Conv2D)            (None, 72, 72, 64)        18496     \n",
      "_________________________________________________________________\n",
      "max_pooling2d_2 (MaxPooling2 (None, 36, 36, 64)        0         \n",
      "_________________________________________________________________\n",
      "conv2d_3 (Conv2D)            (None, 34, 34, 128)       73856     \n",
      "_________________________________________________________________\n",
      "max_pooling2d_3 (MaxPooling2 (None, 17, 17, 128)       0         \n",
      "_________________________________________________________________\n",
      "conv2d_4 (Conv2D)            (None, 15, 15, 128)       147584    \n",
      "_________________________________________________________________\n",
      "max_pooling2d_4 (MaxPooling2 (None, 7, 7, 128)         0         \n",
      "_________________________________________________________________\n",
      "dropout_1 (Dropout)          (None, 7, 7, 128)         0         \n",
      "_________________________________________________________________\n",
      "flatten_1 (Flatten)          (None, 6272)              0         \n",
      "_________________________________________________________________\n",
      "dense_1 (Dense)              (None, 512)               3211776   \n",
      "_________________________________________________________________\n",
      "dense_2 (Dense)              (None, 1)                 513       \n",
      "=================================================================\n",
      "Total params: 3,453,121\n",
      "Trainable params: 3,453,121\n",
      "Non-trainable params: 0\n",
      "_________________________________________________________________\n"
     ]
    }
   ],
   "source": [
    "model.summary()"
   ]
  },
  {
   "cell_type": "code",
   "execution_count": 11,
   "metadata": {},
   "outputs": [],
   "source": [
    "from keras import optimizers\n",
    "\n",
    "model.compile(loss='binary_crossentropy',\n",
    "              optimizer='adam',\n",
    "              metrics=['acc'])"
   ]
  },
  {
   "cell_type": "markdown",
   "metadata": {},
   "source": [
    "## 데이터 전처리\n",
    "\n",
    "데이터는 네트워크에 주입되기 전에 부동 소수 타입의 텐서로 적절하게 전처리되어 있어야 함.  \n",
    "\n",
    "지금은 데이터가 JPEG 파일로 되어 있으므로 네트워크에 주입하려면 다음의 과정을 따름\n",
    "\n",
    "1.\t사진 파일을 읽기\n",
    "2.\tJPEG 콘텐츠를 RGB 픽셀 값으로 디코딩\n",
    "3.\t부동 소수 타입의 텐서로 변환\n",
    "4.\t픽셀 값(0에서 255 사이)의 스케일을 [0, 1] 사이로 조정(신경망은 작은 입력 값을 선호)\n",
    "\n",
    "케라스는 이런 단계를 자동으로 처리하는 유틸리티를 가지고 있음.\n",
    "\n",
    "`ImageDataGenerator` 클래스는 디스크에 있는 이미지 파일을 전처리된 배치 텐서로 자동으로 바꾸어준다"
   ]
  },
  {
   "cell_type": "markdown",
   "metadata": {},
   "source": [
    "### 파이썬 제너레이터"
   ]
  },
  {
   "cell_type": "code",
   "execution_count": 12,
   "metadata": {},
   "outputs": [],
   "source": [
    "def square_numbers(nums):\n",
    "    result = []\n",
    "    for i in nums:\n",
    "        result.append(i*i)\n",
    "    return result"
   ]
  },
  {
   "cell_type": "code",
   "execution_count": 13,
   "metadata": {},
   "outputs": [
    {
     "data": {
      "text/plain": [
       "[1, 4, 9, 16]"
      ]
     },
     "execution_count": 13,
     "metadata": {},
     "output_type": "execute_result"
    }
   ],
   "source": [
    "square_numbers([1,2,3,4])"
   ]
  },
  {
   "cell_type": "code",
   "execution_count": 14,
   "metadata": {},
   "outputs": [],
   "source": [
    "def square_numbers1(nums):\n",
    "    for i in nums:\n",
    "        yield i*i"
   ]
  },
  {
   "cell_type": "code",
   "execution_count": 15,
   "metadata": {},
   "outputs": [
    {
     "data": {
      "text/plain": [
       "<generator object square_numbers1 at 0x0000028205A8FCF0>"
      ]
     },
     "execution_count": 15,
     "metadata": {},
     "output_type": "execute_result"
    }
   ],
   "source": [
    "nums = square_numbers1([1,2,3,4])\n",
    "nums"
   ]
  },
  {
   "cell_type": "code",
   "execution_count": 16,
   "metadata": {},
   "outputs": [
    {
     "data": {
      "text/plain": [
       "1"
      ]
     },
     "execution_count": 16,
     "metadata": {},
     "output_type": "execute_result"
    }
   ],
   "source": [
    "next(nums)"
   ]
  },
  {
   "cell_type": "markdown",
   "metadata": {},
   "source": [
    "[참고자료 : image processing - keras document](https://keras.io/preprocessing/image/)"
   ]
  },
  {
   "cell_type": "code",
   "execution_count": 17,
   "metadata": {},
   "outputs": [
    {
     "name": "stdout",
     "output_type": "stream",
     "text": [
      "Found 2000 images belonging to 2 classes.\n",
      "Found 1000 images belonging to 2 classes.\n"
     ]
    }
   ],
   "source": [
    "from keras.preprocessing.image import ImageDataGenerator\n",
    "\n",
    "# 모든 이미지를 1/255로 스케일을 조정합니다\n",
    "train_datagen = ImageDataGenerator(rescale=1./255)\n",
    "test_datagen = ImageDataGenerator(rescale=1./255)\n",
    "\n",
    "train_generator = train_datagen.flow_from_directory(\n",
    "        # 타깃 디렉터리\n",
    "        train_dir,\n",
    "        # 모든 이미지를 150 × 150 크기로 변경\n",
    "        target_size=(150, 150),\n",
    "        batch_size=20,\n",
    "        # 이진분류이므로 'binary' / 다중 분류의 경우 'categorical'\n",
    "        class_mode='binary')\n",
    "\n",
    "validation_generator = test_datagen.flow_from_directory(\n",
    "        validation_dir,\n",
    "        target_size=(150, 150),\n",
    "        batch_size=20,\n",
    "        class_mode='binary')"
   ]
  },
  {
   "cell_type": "markdown",
   "metadata": {},
   "source": [
    "### 데이터 확인"
   ]
  },
  {
   "cell_type": "code",
   "execution_count": 18,
   "metadata": {},
   "outputs": [
    {
     "data": {
      "text/plain": [
       "(20, 150, 150, 3)"
      ]
     },
     "execution_count": 18,
     "metadata": {},
     "output_type": "execute_result"
    }
   ],
   "source": [
    "# 하나의 배치에 들어 있는 이미지 값들\n",
    "validation_generator[0][0].shape"
   ]
  },
  {
   "cell_type": "code",
   "execution_count": 19,
   "metadata": {},
   "outputs": [
    {
     "data": {
      "text/plain": [
       "(20,)"
      ]
     },
     "execution_count": 19,
     "metadata": {},
     "output_type": "execute_result"
    }
   ],
   "source": [
    "# 하나의 배치에 들어 있는 이미지 라벨 값들\n",
    "validation_generator[0][1].shape"
   ]
  },
  {
   "cell_type": "code",
   "execution_count": 20,
   "metadata": {},
   "outputs": [],
   "source": [
    "aa = validation_generator[0]"
   ]
  },
  {
   "cell_type": "code",
   "execution_count": 76,
   "metadata": {},
   "outputs": [
    {
     "data": {
      "text/plain": [
       "(20, 150, 150, 3)"
      ]
     },
     "execution_count": 76,
     "metadata": {},
     "output_type": "execute_result"
    }
   ],
   "source": [
    "# 첫번째 배치 shape\n",
    "aa[0].shape"
   ]
  },
  {
   "cell_type": "code",
   "execution_count": 77,
   "metadata": {},
   "outputs": [
    {
     "data": {
      "text/plain": [
       "array([[0.28235295, 0.2784314 , 0.25490198, ..., 0.09411766, 0.09019608,\n",
       "        0.09411766],\n",
       "       [0.2627451 , 0.26666668, 0.25490198, ..., 0.08627451, 0.09411766,\n",
       "        0.09411766],\n",
       "       [0.26666668, 0.25882354, 0.25882354, ..., 0.09019608, 0.09411766,\n",
       "        0.09411766],\n",
       "       ...,\n",
       "       [0.65882355, 0.7607844 , 0.9450981 , ..., 0.76470596, 0.7725491 ,\n",
       "        0.8000001 ],\n",
       "       [0.6627451 , 0.6862745 , 0.85098046, ..., 0.76470596, 0.7725491 ,\n",
       "        0.8000001 ],\n",
       "       [0.7372549 , 0.68235296, 0.79215693, ..., 0.76470596, 0.7725491 ,\n",
       "        0.8000001 ]], dtype=float32)"
      ]
     },
     "execution_count": 77,
     "metadata": {},
     "output_type": "execute_result"
    }
   ],
   "source": [
    "# 첫번째 배치 첫번째 데이터 첫번째 채널 확인\n",
    "aa[0][0,:,:,0]"
   ]
  },
  {
   "cell_type": "code",
   "execution_count": 78,
   "metadata": {},
   "outputs": [
    {
     "data": {
      "text/plain": [
       "<matplotlib.image.AxesImage at 0x1e1cdbb45c0>"
      ]
     },
     "execution_count": 78,
     "metadata": {},
     "output_type": "execute_result"
    },
    {
     "data": {
      "image/png": "[encoded data removed]",
      "text/plain": [
       "<Figure size 432x288 with 1 Axes>"
      ]
     },
     "metadata": {
      "needs_background": "light"
     },
     "output_type": "display_data"
    }
   ],
   "source": [
    "import matplotlib.pyplot as plt\n",
    "\n",
    "plt.imshow(aa[0][0,:,:,0])"
   ]
  },
  {
   "cell_type": "code",
   "execution_count": 79,
   "metadata": {},
   "outputs": [
    {
     "data": {
      "text/plain": [
       "<matplotlib.image.AxesImage at 0x1e1ceda1ef0>"
      ]
     },
     "execution_count": 79,
     "metadata": {},
     "output_type": "execute_result"
    },
    {
     "data": {
      "image/png": "[encoded data removed]",
      "text/plain": [
       "<Figure size 432x288 with 1 Axes>"
      ]
     },
     "metadata": {
      "needs_background": "light"
     },
     "output_type": "display_data"
    }
   ],
   "source": [
    "# 첫번째 배치 첫번째 데이터 세번째 채널 확인\n",
    "\n",
    "plt.imshow(aa[0][0,:,:,2])"
   ]
  },
  {
   "cell_type": "markdown",
   "metadata": {},
   "source": [
    "### 제너레이터의 출력 확인\n",
    "\n",
    "### !!주의!!\n",
    "\n",
    "for loop 사용시 train_generator 객체는 배치를 무한정 만들어 내면 결과를 반환한다.\n",
    "따라서 break 사용 필수."
   ]
  },
  {
   "cell_type": "code",
   "execution_count": 37,
   "metadata": {},
   "outputs": [
    {
     "name": "stdout",
     "output_type": "stream",
     "text": [
      "배치 데이터 크기: (20, 150, 150, 3)\n",
      "배치 레이블 크기: (20,)\n"
     ]
    }
   ],
   "source": [
    "for data_batch, labels_batch in train_generator:\n",
    "    print('배치 데이터 크기:', data_batch.shape)\n",
    "    print('배치 레이블 크기:', labels_batch.shape)\n",
    "    break"
   ]
  },
  {
   "cell_type": "markdown",
   "metadata": {},
   "source": [
    "### 모델 훈련\n",
    "\n",
    "- 제너레이터를 사용하여 데이터를 주입할 경우 `fit_generator` 메서드를 사용한다\n",
    "\n",
    "- `fit_generator` 메서드는 첫 번째 매개변수로 입력과 타깃의 배치를 끝없이 반환하는 파이썬 제너레이터를 받는다(train_generator)\n",
    "\n",
    "*for loop에서와 마찬가지로 데이터가 끝없이 생성되기 때문에, 케라스 모델에 하나의 에포크를 정의하기 위해 제너레이터로부터 얼마나 많은 샘플을 뽑을 것인지 지정해야 한다.\n",
    "--> `steps_per_epoch` 매개변수에서 이를 설정*\n",
    "\n",
    "- 제너레이터로부터 `steps_per_epoch` 개의 배치만큼 뽑은 다음, 즉 `steps_per_epoch` 횟수만큼 경사 하강법 단계를 실행한 다음에 훈련 프로세스는 다음 에포크로 넘어가게 된다. \n",
    "\n",
    "- 20개의 샘플이 하나의 배치이므로 2,000개의 샘플을 모두 처리하도록 100으로 설정\n",
    "\n",
    "- `fit` 메서드와 마찬가지로 `validation_data` 매개변수 전달 가능. \n",
    "\n",
    "- 이 매개변수에는 데이터 제너레이터도 가능하지만 넘파이 배열의 튜플도 가능 \n",
    "\n",
    "- `validation_data`로 제너레이터를 전달하면 검증 데이터의 배치를 끝없이 반환하므로 `validation_steps` 매개변수에 지정해야 한다"
   ]
  },
  {
   "cell_type": "markdown",
   "metadata": {},
   "source": [
    "- loss: 매 에포크 마다의 훈련 손실값\n",
    "- acc: 매 에포크 마다의 훈련 정확도\n",
    "- val_loss: 매 에포크 마다의 검증 손실값\n",
    "- val_acc: 매 에포크 마다의 검증 정확도"
   ]
  },
  {
   "cell_type": "code",
   "execution_count": 81,
   "metadata": {},
   "outputs": [
    {
     "name": "stdout",
     "output_type": "stream",
     "text": [
      "Epoch 1/30\n",
      "100/100 [==============================] - 77s 768ms/step - loss: 0.6953 - acc: 0.5060 - val_loss: 0.6839 - val_acc: 0.5210\n",
      "Epoch 2/30\n",
      "100/100 [==============================] - 78s 783ms/step - loss: 0.6926 - acc: 0.5075 - val_loss: 0.7000 - val_acc: 0.5070\n",
      "Epoch 3/30\n",
      "100/100 [==============================] - 81s 814ms/step - loss: 0.6635 - acc: 0.6090 - val_loss: 0.6071 - val_acc: 0.6380\n",
      "Epoch 4/30\n",
      "100/100 [==============================] - 82s 821ms/step - loss: 0.6226 - acc: 0.6620 - val_loss: 0.5792 - val_acc: 0.6770\n",
      "Epoch 5/30\n",
      "100/100 [==============================] - 81s 809ms/step - loss: 0.5884 - acc: 0.6930 - val_loss: 0.6514 - val_acc: 0.6870\n",
      "Epoch 6/30\n",
      "100/100 [==============================] - 81s 806ms/step - loss: 0.5593 - acc: 0.7090 - val_loss: 0.5360 - val_acc: 0.6500\n",
      "Epoch 7/30\n",
      "100/100 [==============================] - 78s 784ms/step - loss: 0.5234 - acc: 0.7315 - val_loss: 0.5180 - val_acc: 0.6910\n",
      "Epoch 8/30\n",
      "100/100 [==============================] - 77s 766ms/step - loss: 0.4908 - acc: 0.7485 - val_loss: 0.6246 - val_acc: 0.6830\n",
      "Epoch 9/30\n",
      "100/100 [==============================] - 77s 772ms/step - loss: 0.4502 - acc: 0.7825 - val_loss: 0.4725 - val_acc: 0.7030\n",
      "Epoch 10/30\n",
      "100/100 [==============================] - 77s 774ms/step - loss: 0.3992 - acc: 0.8185 - val_loss: 0.6815 - val_acc: 0.7330\n",
      "Epoch 11/30\n",
      "100/100 [==============================] - 77s 774ms/step - loss: 0.3558 - acc: 0.8380 - val_loss: 0.5819 - val_acc: 0.7120\n",
      "Epoch 12/30\n",
      "100/100 [==============================] - 78s 775ms/step - loss: 0.3128 - acc: 0.8645 - val_loss: 0.3823 - val_acc: 0.7530\n",
      "Epoch 13/30\n",
      "100/100 [==============================] - 75s 750ms/step - loss: 0.2305 - acc: 0.9095 - val_loss: 0.4196 - val_acc: 0.7430\n",
      "Epoch 14/30\n",
      "100/100 [==============================] - 78s 778ms/step - loss: 0.2310 - acc: 0.9125 - val_loss: 1.0524 - val_acc: 0.7220\n",
      "Epoch 15/30\n",
      "100/100 [==============================] - 80s 804ms/step - loss: 0.1663 - acc: 0.9360 - val_loss: 1.7539 - val_acc: 0.7230\n",
      "Epoch 16/30\n",
      "100/100 [==============================] - 78s 781ms/step - loss: 0.1446 - acc: 0.9445 - val_loss: 0.3124 - val_acc: 0.7390\n",
      "Epoch 17/30\n",
      "100/100 [==============================] - 75s 751ms/step - loss: 0.1430 - acc: 0.9500 - val_loss: 1.2290 - val_acc: 0.7350\n",
      "Epoch 18/30\n",
      "100/100 [==============================] - 81s 808ms/step - loss: 0.0925 - acc: 0.9655 - val_loss: 0.8160 - val_acc: 0.7500\n",
      "Epoch 19/30\n",
      "100/100 [==============================] - 79s 785ms/step - loss: 0.0680 - acc: 0.9785 - val_loss: 1.8221 - val_acc: 0.7520\n",
      "Epoch 20/30\n",
      "100/100 [==============================] - 78s 783ms/step - loss: 0.0906 - acc: 0.9730 - val_loss: 0.4245 - val_acc: 0.7310\n",
      "Epoch 21/30\n",
      "100/100 [==============================] - 76s 762ms/step - loss: 0.0480 - acc: 0.9860 - val_loss: 1.6510 - val_acc: 0.7440\n",
      "Epoch 22/30\n",
      "100/100 [==============================] - 76s 761ms/step - loss: 0.0706 - acc: 0.9750 - val_loss: 1.6537 - val_acc: 0.7490\n",
      "Epoch 23/30\n",
      "100/100 [==============================] - 75s 753ms/step - loss: 0.0688 - acc: 0.9775 - val_loss: 1.4235 - val_acc: 0.7390\n",
      "Epoch 24/30\n",
      "100/100 [==============================] - 77s 772ms/step - loss: 0.0598 - acc: 0.9780 - val_loss: 0.9198 - val_acc: 0.7560\n",
      "Epoch 25/30\n",
      "100/100 [==============================] - 78s 783ms/step - loss: 0.0515 - acc: 0.9845 - val_loss: 2.1557 - val_acc: 0.7490\n",
      "Epoch 26/30\n",
      "100/100 [==============================] - 79s 791ms/step - loss: 0.0624 - acc: 0.9775 - val_loss: 1.2188 - val_acc: 0.7350\n",
      "Epoch 27/30\n",
      "100/100 [==============================] - 81s 808ms/step - loss: 0.0434 - acc: 0.9875 - val_loss: 0.8432 - val_acc: 0.7550\n",
      "Epoch 28/30\n",
      "100/100 [==============================] - 74s 741ms/step - loss: 0.0349 - acc: 0.9915 - val_loss: 0.8832 - val_acc: 0.7550\n",
      "Epoch 29/30\n",
      "100/100 [==============================] - 74s 735ms/step - loss: 0.0199 - acc: 0.9925 - val_loss: 0.4108 - val_acc: 0.7470\n",
      "Epoch 30/30\n",
      "100/100 [==============================] - 74s 737ms/step - loss: 0.0367 - acc: 0.9885 - val_loss: 0.9310 - val_acc: 0.7580\n"
     ]
    }
   ],
   "source": [
    "history = model.fit_generator(\n",
    "      train_generator,\n",
    "      steps_per_epoch=100,\n",
    "      epochs=30,\n",
    "      validation_data=validation_generator,\n",
    "      validation_steps=50)"
   ]
  },
  {
   "cell_type": "markdown",
   "metadata": {},
   "source": [
    "### 모델 저장"
   ]
  },
  {
   "cell_type": "code",
   "execution_count": null,
   "metadata": {},
   "outputs": [],
   "source": [
    "model.save('cats_and_dogs_small_1.h5')"
   ]
  },
  {
   "cell_type": "markdown",
   "metadata": {},
   "source": [
    "### 모델의 손실과 정확도 그래프"
   ]
  },
  {
   "cell_type": "code",
   "execution_count": null,
   "metadata": {},
   "outputs": [],
   "source": [
    "import matplotlib.pyplot as plt"
   ]
  },
  {
   "cell_type": "code",
   "execution_count": 60,
   "metadata": {},
   "outputs": [],
   "source": [
    "import numpy as np\n",
    "import pandas as pd\n",
    "import keras\n",
    "import tensorflow as tf\n",
    "from IPython.display import display\n",
    "import PIL"
   ]
  },
  {
   "cell_type": "code",
   "execution_count": 62,
   "metadata": {},
   "outputs": [
    {
     "name": "stdout",
     "output_type": "stream",
     "text": [
      "[name: \"/device:CPU:0\"\n",
      "device_type: \"CPU\"\n",
      "memory_limit: 268435456\n",
      "locality {\n",
      "}\n",
      "incarnation: 15815807922736183660\n",
      "]\n"
     ]
    }
   ],
   "source": [
    "from tensorflow.python.client import device_lib\n",
    "print(device_lib.list_local_devices())"
   ]
  },
  {
   "cell_type": "code",
   "execution_count": 63,
   "metadata": {},
   "outputs": [
    {
     "data": {
      "text/plain": [
       "[]"
      ]
     },
     "execution_count": 63,
     "metadata": {},
     "output_type": "execute_result"
    }
   ],
   "source": [
    "from keras import backend as K\n",
    "K.tensorflow_backend._get_available_gpus()"
   ]
  },
  {
   "cell_type": "code",
   "execution_count": 58,
   "metadata": {},
   "outputs": [
    {
     "data": {
      "image/png": "[encoded data removed]",
      "text/plain": [
       "<Figure size 432x288 with 1 Axes>"
      ]
     },
     "metadata": {
      "needs_background": "light"
     },
     "output_type": "display_data"
    },
    {
     "data": {
      "image/png": "[encoded data removed]",
      "text/plain": [
       "<Figure size 432x288 with 1 Axes>"
      ]
     },
     "metadata": {
      "needs_background": "light"
     },
     "output_type": "display_data"
    }
   ],
   "source": [
    "acc = history.history['acc']\n",
    "val_acc = history.history['val_acc']\n",
    "loss = history.history['loss']\n",
    "val_loss = history.history['val_loss']\n",
    "\n",
    "epochs = range(len(acc))\n",
    "\n",
    "plt.plot(epochs, acc, 'bo', label='Training acc')\n",
    "plt.plot(epochs, val_acc, 'b', label='Validation acc')\n",
    "plt.title('Training and validation accuracy')\n",
    "plt.legend()\n",
    "\n",
    "plt.figure()\n",
    "\n",
    "plt.plot(epochs, loss, 'bo', label='Training loss')\n",
    "plt.plot(epochs, val_loss, 'b', label='Validation loss')\n",
    "plt.title('Training and validation loss')\n",
    "plt.legend()\n",
    "\n",
    "plt.show()"
   ]
  },
  {
   "cell_type": "markdown",
   "metadata": {},
   "source": [
    "- 과대적합의 특성을 볼 수 있음\n",
    "\n",
    "- 훈련 정확도가 시간이 지남에 따라 선형적으로 증가해서 거의 100%에 도달\n",
    "\n",
    "- 반면 검증 정확도는 70-72%에서 멈춤\n",
    "\n",
    "- 검증 손실은 다섯 번의 에포크만에 최소값 도달\n",
    "\n",
    "- 비교적 훈련 샘플의 수(2,000개)가 적기 때문에 과대적합이 가장 중요한 문제"
   ]
  }
 ],
 "metadata": {
  "kernelspec": {
   "display_name": "Python 3",
   "language": "python",
   "name": "python3"
  },
  "language_info": {
   "codemirror_mode": {
    "name": "ipython",
    "version": 3
   },
   "file_extension": ".py",
   "mimetype": "text/x-python",
   "name": "python",
   "nbconvert_exporter": "python",
   "pygments_lexer": "ipython3",
   "version": "3.7.3"
  }
 },
 "nbformat": 4,
 "nbformat_minor": 4
}
